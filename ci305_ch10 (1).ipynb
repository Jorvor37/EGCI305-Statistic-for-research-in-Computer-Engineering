{
 "cells": [
  {
   "cell_type": "markdown",
   "id": "d2845d01-38dc-4325-92a8-17b79b97ec17",
   "metadata": {},
   "source": [
    "# EGCI 305: Chapter 10 (Categorical Data)\n",
    "\n",
    "Outline\n",
    "> 1. [Packages](#ch10_packages)\n",
    "\n",
    "> 2. [Chi-square goodness-of-fit test](#ch10_chi_goodness)\n",
    ">    - [Example: mendel](#ch10_ex_mendel)\n",
    ">    - [Example: hour of birth](#ch10_ex_hour)\n",
    "\n",
    "> 3. [Chi-square contingency](#ch10_chi_contingency)\n",
    ">    - [Example: can products](#ch10_ex_can)\n",
    ">    - [Example: gasoline marketing](#ch10_ex_gasoline)\n",
    ">    - [Example: pregnancy](#ch10_ex_pregnancy)"
   ]
  },
  {
   "cell_type": "markdown",
   "id": "a564613e-f234-437f-acd0-381e074f9d4d",
   "metadata": {},
   "source": [
    "<a name=\"ch10_packages\"></a>\n",
    "\n",
    "## Packages\n",
    "> - **numpy** -- to work with array manipulation\n",
    "> - **matplotlib** -- to work with visualization (backend)\n",
    "> - **seaborn** -- to work with high-level visualization\n",
    "> - **math** -- to work with calculation such as sqrt (if not using sympy)\n",
    "> - **scipy.stats** -- to work with stat"
   ]
  },
  {
   "cell_type": "code",
   "execution_count": null,
   "id": "84400489-2276-49b0-a621-e5244e731154",
   "metadata": {},
   "outputs": [],
   "source": [
    "import numpy as np\n",
    "import matplotlib.pyplot as plt\n",
    "import seaborn as sns\n",
    "\n",
    "print(\"Numpy version =\", np.version.version)\n",
    "print(\"Seaborn version =\", sns.__version__)\n",
    "\n",
    "import math\n",
    "import scipy\n",
    "print(\"Scipy version =\", scipy.__version__)\n",
    "\n",
    "from scipy import stats\n",
    "from scipy.stats import chi2               # Chi-squared distribution\n",
    "from scipy.stats import chisquare          # Chi-squared goodness-of-fit\n",
    "from scipy.stats import chi2_contingency   # Chi-squared homogeneity & independent"
   ]
  },
  {
   "cell_type": "markdown",
   "id": "be333fba-2fe9-45e9-94cf-a0aea9ec3b03",
   "metadata": {},
   "source": [
    "<a name=\"ch10_chi_goodness\"></a>\n",
    "\n",
    "## Chi-square Goodness-of-Fit test\n",
    "- **[Manual: scipy.stats.chisquare](https://docs.scipy.org/doc/scipy/reference/generated/scipy.stats.chisquare.html)**\n",
    "- Can use this function to do the whole testing procedure **if raw data are available**\n",
    "- H<sub>0</sub> : the categorical data has the given proportions"
   ]
  },
  {
   "attachments": {},
   "cell_type": "markdown",
   "id": "f041c327-bb5b-4e97-9418-3c82c5b3c5d0",
   "metadata": {},
   "source": [
    "<a name=\"ch10_ex_mendel\"></a>\n",
    "\n",
    "### Example : mendel"
   ]
  },
  {
   "cell_type": "code",
   "execution_count": null,
   "id": "d44fa8ee-8c4d-4297-8873-b2d0184abefb",
   "metadata": {},
   "outputs": [],
   "source": [
    "freq_obs       = np.array( [926, 288, 293, 104] )\n",
    "h0_proportions = np.array( [9/16, 3/16, 3/16, 1/16] )\n",
    "n        = sum(freq_obs)\n",
    "freq_exp = n * h0_proportions\n",
    "\n",
    "# Total freq_obs and total freq_exp must be exactly equal (= 1611), otherwise error\n",
    "# freq_exp = np.array( [906.19, 302.06, 302.06, 100.69] )\n",
    "\n",
    "freq_exp"
   ]
  },
  {
   "cell_type": "code",
   "execution_count": null,
   "id": "78ba011b-287c-4f4d-9e23-1104c73f5b28",
   "metadata": {},
   "outputs": [],
   "source": [
    "result = chisquare(freq_obs, freq_exp)\n",
    "df = freq_obs.size - 1\n",
    "\n",
    "print(\"Calculated chi2 = %.2f\" % result.statistic)\n",
    "print(\"df              = %d\"   % df)\n",
    "print(\"P-value         = %.3f\" % result.pvalue)"
   ]
  },
  {
   "cell_type": "code",
   "execution_count": null,
   "id": "ca7d8fc4-4448-4ab7-b734-b6ff344bd7e3",
   "metadata": {},
   "outputs": [],
   "source": [
    "### From manual calculation\n",
    "\n",
    "critical = chi2.ppf(1-0.05, 3)\n",
    "pvalue   = chi2.sf(1.47, 3)\n",
    "print(\"Critical value = %.2f\" % critical)\n",
    "print(\"P-value        = %.3f\" % pvalue)"
   ]
  },
  {
   "cell_type": "markdown",
   "id": "d1e5e8a8-d49f-4ff2-b9df-fa1cb0fdb2fa",
   "metadata": {},
   "source": [
    "<a name=\"ch10_ex_hour\"></a>\n",
    "\n",
    "### Example : hour of birth\n",
    "- Hypothesis\n",
    "    >- H<sub>0</sub> : p<sub>i</sub> = 1/24 ; for all i\n",
    "    >- H<sub>1</sub> : p<sub>i</sub> $\\ne$ 1/24 ; for some i"
   ]
  },
  {
   "cell_type": "code",
   "execution_count": null,
   "id": "7a0b6f8f-e9f2-407a-b8ea-c8e65df321f6",
   "metadata": {},
   "outputs": [],
   "source": [
    "freq_obs = np.array( [52, 73, 89, 88, 68, 47, 58, 47, 48, 53, 47, 34, \n",
    "                      21, 31, 40, 24, 37, 31, 47, 34, 36, 44, 78, 59] )\n",
    "n        = sum(freq_obs)\n",
    "freq_exp = np.full(freq_obs.size, n/24)\n",
    "np.around(freq_exp, 2)"
   ]
  },
  {
   "cell_type": "code",
   "execution_count": null,
   "id": "620f3de5-bcda-4ca3-9cbd-492dd678aede",
   "metadata": {},
   "outputs": [],
   "source": [
    "result = chisquare(freq_obs, freq_exp)\n",
    "df = freq_obs.size - 1\n",
    "\n",
    "print(\"Calculated chi2 = %.2f\" % result.statistic)\n",
    "print(\"df              = %d\"   % df)\n",
    "print(\"P-value         = %.3f\" % result.pvalue)"
   ]
  },
  {
   "cell_type": "markdown",
   "id": "d4a3fbc9-6302-469e-b33a-b5d45cd116b8",
   "metadata": {},
   "source": [
    "<a name=\"ch10_chi_contingency\"></a>\n",
    "\n",
    "## Chi-square Contingency (Homogeneity & Independent Tests)\n",
    "- **[Manual: scipy.stats.chi2_contingency](https://docs.scipy.org/doc/scipy/reference/generated/scipy.stats.chi2_contingency.html)**\n",
    "- Can use this function to do the whole testing procedure **if raw data are available**"
   ]
  },
  {
   "cell_type": "markdown",
   "id": "fa9d320b-9873-4637-836a-58b2a344dad8",
   "metadata": {},
   "source": [
    "<a name=\"ch10_ex_can\"></a>\n",
    "\n",
    "### Example : can products\n",
    "- Hypothesis\n",
    "    >- p<sub>ij</sub> = proportion of nonconformity j in production line i\n",
    "    >- H<sub>0</sub> : p<sub>1j</sub> = p<sub>2j</sub> = p<sub>3j</sub> \n",
    "    >- H<sub>1</sub> : p<sub>ij</sub> $\\ne$ p<sub>kj</sub> for some production lines i $\\ne$ k"
   ]
  },
  {
   "cell_type": "code",
   "execution_count": null,
   "id": "bf9afade-c763-4ced-b83e-f3eb04021e40",
   "metadata": {},
   "outputs": [],
   "source": [
    "import pandas as pd\n",
    "\n",
    "df_xtab = pd.DataFrame(columns = ('Blemish', 'Crack', 'Location', 'Missing', 'Other'))\n",
    "df_xtab.loc['Line 1'] = [34, 65, 17, 21, 13]\n",
    "df_xtab.loc['Line 2'] = [23, 52, 25, 19,  6]\n",
    "df_xtab.loc['Line 3'] = [32, 28, 16, 14, 10]\n",
    "df_xtab"
   ]
  },
  {
   "cell_type": "code",
   "execution_count": null,
   "id": "d5c70946-9c34-4623-8e9f-8d2fffa6a603",
   "metadata": {},
   "outputs": [],
   "source": [
    "result = chi2_contingency(df_xtab)\n",
    "\n",
    "print(\"Calculated chi2 = %.2f\" % result.statistic)\n",
    "print(\"df              = %d\"   % result.dof)\n",
    "print(\"P-value         = %.3f\" % result.pvalue, \"\\n\")\n",
    "\n",
    "print(\"Expected freq\")\n",
    "print( np.around(result.expected_freq, 2) )"
   ]
  },
  {
   "cell_type": "code",
   "execution_count": null,
   "id": "41523531-f9e4-4594-b1fe-2d592d0be21a",
   "metadata": {},
   "outputs": [],
   "source": [
    "### From manual calculation\n",
    "\n",
    "critical = chi2.ppf(1-0.05, 8)\n",
    "pvalue   = chi2.sf(14.16, 8)\n",
    "print(\"Critical value = %.2f\" % critical)\n",
    "print(\"P-value        = %.3f\" % pvalue)"
   ]
  },
  {
   "attachments": {},
   "cell_type": "markdown",
   "id": "0434bb78-5fcf-47d3-a07d-9ca6c76257aa",
   "metadata": {},
   "source": [
    "<a name=\"ch10_ex_gasoline\"></a>\n",
    "\n",
    "### Example : gasoline marketing\n",
    "- Hypothesis\n",
    "    >- $\\rho$ = population correlation between facility conditions and pricing strategies\n",
    "    >- H<sub>0</sub> : $\\rho$ = 0\n",
    "    >- H<sub>1</sub> : $\\rho$ $\\ne$ 0"
   ]
  },
  {
   "cell_type": "code",
   "execution_count": null,
   "id": "163b1f14-637f-4877-9e56-a4f272aade3c",
   "metadata": {},
   "outputs": [],
   "source": [
    "import pandas as pd\n",
    "\n",
    "df_xtab = pd.DataFrame(columns = ('Aggressive', 'Neutral', 'Nonaggressive'))\n",
    "df_xtab.loc['Substandard'] = [24, 15, 17]\n",
    "df_xtab.loc['Standard']    = [52, 73, 80]\n",
    "df_xtab.loc['Modern']      = [58, 86, 36]\n",
    "df_xtab"
   ]
  },
  {
   "cell_type": "code",
   "execution_count": null,
   "id": "a8dd273a-e8cc-4b6c-9734-6e36144c94f0",
   "metadata": {},
   "outputs": [],
   "source": [
    "result = chi2_contingency(df_xtab)\n",
    "\n",
    "print(\"Calculated chi2 = %.2f\" % result.statistic)\n",
    "print(\"df              = %d\"   % result.dof)\n",
    "print(\"P-value         = %.6f\" % result.pvalue, \"\\n\")\n",
    "\n",
    "print(\"Expected freq\")\n",
    "print( np.around(result.expected_freq, 2) )"
   ]
  },
  {
   "cell_type": "markdown",
   "id": "66cde135-b833-45e5-b4e6-1b4febed30e4",
   "metadata": {},
   "source": [
    "<a name=\"ch10_ex_pregnancy\"></a>\n",
    "\n",
    "### Example : pregnancy\n",
    "- Hypothesis\n",
    "    >- $\\rho$ = population correlation between smoking and pregnancy outcomes\n",
    "    >- H<sub>0</sub> : $\\rho$ = 0\n",
    "    >- H<sub>1</sub> : $\\rho$ $\\ne$ 0"
   ]
  },
  {
   "cell_type": "code",
   "execution_count": null,
   "id": "dcdc3a3e-7f52-4273-afd7-2a3231bda353",
   "metadata": {},
   "outputs": [],
   "source": [
    "import pandas as pd\n",
    "\n",
    "df_xtab = pd.DataFrame(columns = ('Smoker', 'Nonsmoker'))\n",
    "df_xtab.loc['Premature'] = [88, 66]\n",
    "df_xtab.loc['Full-term'] = [2542, 2963]\n",
    "df_xtab"
   ]
  },
  {
   "cell_type": "code",
   "execution_count": null,
   "id": "8e8d4a21-87b8-4a03-9f04-2c1da8442502",
   "metadata": {},
   "outputs": [],
   "source": [
    "### When df = 1, this function will apply Yates’ correction by default\n",
    "#   (adjust each observed value by 0.5 towards the corresponding expected value)\n",
    "\n",
    "result = chi2_contingency(df_xtab)                        # with correction\n",
    "#result = chi2_contingency(df_xtab, correction=False)      # without correction\n",
    "\n",
    "print(\"Calculated chi2 = %.2f\" % result.statistic)\n",
    "print(\"df              = %d\"   % result.dof)\n",
    "print(\"P-value         = %.6f\" % result.pvalue, \"\\n\")\n",
    "\n",
    "print(\"Expected freq\")\n",
    "print( np.around(result.expected_freq, 2) )"
   ]
  },
  {
   "cell_type": "code",
   "execution_count": 1,
   "id": "09089afa-22f4-4980-9d8a-4340379d99b8",
   "metadata": {},
   "outputs": [
    {
     "name": "stdout",
     "output_type": "stream",
     "text": [
      "Chi-squared Statistic: 131.4959157344572\n",
      "Degrees of Freedom: 4\n",
      "P-value: 1.864072008475466e-27\n",
      "Expected Frequencies:\n",
      "[[285.56149733 409.83363042 475.93582888 347.03654189 706.63250149]\n",
      " [146.43850267 210.16636958 244.06417112 177.96345811 362.36749851]]\n",
      "Critical Value: 9.487729036781154\n",
      "Reject the null hypothesis - significant differences exist.\n"
     ]
    }
   ],
   "source": [
    "import numpy as np\n",
    "from scipy.stats import chi2, chi2_contingency\n",
    "\n",
    "# Observed data\n",
    "data = np.array([\n",
    "    [202, 369, 482, 361, 811],  # Male counts\n",
    "    [230, 251, 238, 164, 258]   # Female counts\n",
    "])\n",
    "\n",
    "# Calculate the Chi-squared test using scipy's chi2_contingency function\n",
    "chi2_stat, p_value, df, expected = chi2_contingency(data)\n",
    "\n",
    "print(\"Chi-squared Statistic:\", chi2_stat)\n",
    "print(\"Degrees of Freedom:\", df)\n",
    "print(\"P-value:\", p_value)\n",
    "print(\"Expected Frequencies:\")\n",
    "print(expected)\n",
    "\n",
    "# Determine the critical value at 95% confidence level\n",
    "critical_value = chi2.ppf(0.95, df)\n",
    "\n",
    "# Compare the chi-squared statistic to the critical value\n",
    "print(\"Critical Value:\", critical_value)\n",
    "if chi2_stat > critical_value:\n",
    "    print(\"Reject the null hypothesis - significant differences exist.\")\n",
    "else:\n",
    "    print(\"Fail to reject the null hypothesis - no significant differences exist.\")\n"
   ]
  },
  {
   "cell_type": "code",
   "execution_count": 2,
   "id": "fb4b2f80-5d76-4f16-aa8d-654828b56072",
   "metadata": {},
   "outputs": [
    {
     "name": "stdout",
     "output_type": "stream",
     "text": [
      "Chi-squared Statistic: 22.373137280702615\n",
      "Degrees of Freedom: 4\n",
      "P-value: 0.00016889484997124787\n",
      "Expected Frequencies:\n",
      "[[119.34831461  57.56179775  58.08988764]\n",
      " [ 82.78202247  39.9258427   40.29213483]\n",
      " [ 23.86966292  11.51235955  11.61797753]]\n",
      "Critical Value: 9.487729036781154\n",
      "Reject the null hypothesis - significant differences exist.\n"
     ]
    }
   ],
   "source": [
    "import numpy as np\n",
    "from scipy.stats import chi2, chi2_contingency\n",
    "\n",
    "# Observed data\n",
    "data = np.array([\n",
    "    [141, 54, 40],\n",
    "    [68, 44, 51],\n",
    "    [17, 11, 19]\n",
    "])\n",
    "\n",
    "# Calculate the Chi-squared test using scipy's chi2_contingency function\n",
    "chi2_stat, p_value, df, expected = chi2_contingency(data)\n",
    "\n",
    "print(\"Chi-squared Statistic:\", chi2_stat)\n",
    "print(\"Degrees of Freedom:\", df)\n",
    "print(\"P-value:\", p_value)\n",
    "print(\"Expected Frequencies:\")\n",
    "print(expected)\n",
    "\n",
    "# Determine the critical value at 95% confidence level\n",
    "critical_value = chi2.ppf(0.95, df)\n",
    "\n",
    "# Compare the chi-squared statistic to the critical value\n",
    "print(\"Critical Value:\", critical_value)\n",
    "if chi2_stat > critical_value:\n",
    "    print(\"Reject the null hypothesis - significant differences exist.\")\n",
    "else:\n",
    "    print(\"Fail to reject the null hypothesis - no significant differences exist.\")\n"
   ]
  },
  {
   "cell_type": "code",
   "execution_count": null,
   "id": "77e74bfd-fa9a-47f6-a558-8a0b52261f75",
   "metadata": {},
   "outputs": [],
   "source": []
  }
 ],
 "metadata": {
  "kernelspec": {
   "display_name": "anaconda-panel-2023.05-py310",
   "language": "python",
   "name": "conda-env-anaconda-panel-2023.05-py310-py"
  },
  "language_info": {
   "codemirror_mode": {
    "name": "ipython",
    "version": 3
   },
   "file_extension": ".py",
   "mimetype": "text/x-python",
   "name": "python",
   "nbconvert_exporter": "python",
   "pygments_lexer": "ipython3",
   "version": "3.11.5"
  }
 },
 "nbformat": 4,
 "nbformat_minor": 5
}
