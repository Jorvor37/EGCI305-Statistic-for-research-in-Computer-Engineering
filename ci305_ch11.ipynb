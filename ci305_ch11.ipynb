{
 "cells": [
  {
   "cell_type": "markdown",
   "id": "d2845d01-38dc-4325-92a8-17b79b97ec17",
   "metadata": {},
   "source": [
    "# EGCI 305: Chapter 11 (Distribution Free)\n",
    "\n",
    "Outline\n",
    "> 1. [Packages](#ch11_packages)\n",
    "\n",
    "> 2. [Wilcoxon signed rank (paired groups)](#ch11_wilcoxon_sr)\n",
    ">    - [Example: diet strategies (paired t-test)](#ch11_ex_diet)\n",
    ">    - [Example: iron temperature (1 sample)](#ch11_ex_iron)\n",
    "\n",
    "> 3. [Wilcoxon rank sum vs. Mann-Whitney U (independent groups)](#ch11_mannwhitney)\n",
    ">    - [Example: fluoride concentration](#ch11_ex_fluoride)\n",
    "\n",
    "Functions\n",
    "> - [printSignedRank](#ch11_func_print_sr)\n",
    "> - [printRankSums](#ch11_func_print_rsums)"
   ]
  },
  {
   "cell_type": "markdown",
   "id": "a564613e-f234-437f-acd0-381e074f9d4d",
   "metadata": {},
   "source": [
    "<a name=\"ch11_packages\"></a>\n",
    "\n",
    "## Packages\n",
    "> - **numpy** -- to work with array manipulation\n",
    "> - **matplotlib** -- to work with visualization (backend)\n",
    "> - **seaborn** -- to work with high-level visualization\n",
    "> - **math** -- to work with calculation such as sqrt (if not using sympy)\n",
    "> - **scipy.stats** -- to work with stat"
   ]
  },
  {
   "cell_type": "code",
   "execution_count": 1,
   "id": "84400489-2276-49b0-a621-e5244e731154",
   "metadata": {},
   "outputs": [
    {
     "name": "stdout",
     "output_type": "stream",
     "text": [
      "Numpy version = 1.24.3\n",
      "Seaborn version = 0.12.2\n",
      "Scipy version = 1.11.1\n"
     ]
    }
   ],
   "source": [
    "import numpy as np\n",
    "import matplotlib.pyplot as plt\n",
    "import seaborn as sns\n",
    "\n",
    "print(\"Numpy version =\", np.version.version)\n",
    "print(\"Seaborn version =\", sns.__version__)\n",
    "\n",
    "import math\n",
    "import scipy\n",
    "print(\"Scipy version =\", scipy.__version__)\n",
    "\n",
    "from scipy import stats\n",
    "from scipy.stats import wilcoxon        # Wilcoxon signed rank\n",
    "from scipy.stats import ranksums        # Wilcoxon rank sum\n",
    "from scipy.stats import mannwhitneyu    # Mann-Whitney U\n",
    "\n",
    "from scipy.stats import ttest_1samp     # T-test"
   ]
  },
  {
   "cell_type": "markdown",
   "id": "be333fba-2fe9-45e9-94cf-a0aea9ec3b03",
   "metadata": {},
   "source": [
    "<a name=\"ch11_wilcoxon_sr\"></a>\n",
    "\n",
    "## Wilcoxon Signed Rank (paired groups)\n",
    "- **[Manual: scipy.stats.wilcoxon](https://docs.scipy.org/doc/scipy/reference/generated/scipy.stats.wilcoxon.html)**\n",
    "- Can use this function to do the whole testing procedure **if raw data are available**\n",
    "- Testing $\\mu$<sub>D</sub> (D = A - B) against 0 only"
   ]
  },
  {
   "cell_type": "markdown",
   "id": "c008db60-383a-4e2e-b112-4afc428b8a61",
   "metadata": {},
   "source": [
    "<a name=\"ch11_func_print_sr\"></a>\n",
    "#### Function : printSignedRank"
   ]
  },
  {
   "cell_type": "code",
   "execution_count": 2,
   "id": "27f7aa87-fed6-48d5-b5f4-93cf57217bea",
   "metadata": {},
   "outputs": [],
   "source": [
    "import pandas as pd\n",
    "\n",
    "### Just for quick overview. No tie handling\n",
    "\n",
    "def printSignedRank(D):\n",
    "    srank     = [None] * D.size\n",
    "    sortindex = np.argsort( abs(D) )\n",
    "    order = 1\n",
    "    for i in sortindex:\n",
    "        srank[i] = order\n",
    "        order = order + 1\n",
    "        if D[i] < 0:\n",
    "            srank[i] = srank[i] * (-1)\n",
    "\n",
    "    df = pd.DataFrame( {'D': D,                   \n",
    "                        'signed rank': srank\n",
    "                       }\n",
    "                     )\n",
    "    print(df.to_markdown(), \"\\n\")\n",
    "    #print(df.T.to_markdown(), \"\\n\")"
   ]
  },
  {
   "cell_type": "markdown",
   "id": "0f729239-cd4c-4e80-96cd-cee09b34172c",
   "metadata": {},
   "source": [
    "<a name=\"ch11_ex_diet\"></a>\n",
    "\n",
    "### Example : diet strategies (paired t-test)\n",
    "- Hypothesis\n",
    "    >- H<sub>0</sub> : $\\mu$<sub>D</sub> = 0\n",
    "    >- H<sub>1</sub> : $\\mu$<sub>D</sub> $\\ne$ 0\n",
    "    >- D = IF - Std"
   ]
  },
  {
   "cell_type": "code",
   "execution_count": 3,
   "id": "b4d00a88-55f0-4fe5-9c65-ace44c8d11c4",
   "metadata": {},
   "outputs": [
    {
     "name": "stdout",
     "output_type": "stream",
     "text": [
      "|    |      D |   signed rank |\n",
      "|---:|-------:|--------------:|\n",
      "|  0 |   -1.3 |            -1 |\n",
      "|  1 |  -86.7 |            -5 |\n",
      "|  2 | -120.6 |            -6 |\n",
      "|  3 | -198   |            -7 |\n",
      "|  4 |  -31   |            -4 |\n",
      "|  5 |   25.8 |             3 |\n",
      "|  6 | -201.2 |            -8 |\n",
      "|  7 |  -18.3 |            -2 | \n",
      "\n",
      "Calculated S+ = 3.0\n",
      "P-value       = 0.039\n"
     ]
    }
   ],
   "source": [
    "IF  = np.array( [1753.7, 1604.4, 1576.5, 1279.7, 1754.2, 1695.5, 1700.1, 1717.0] )\n",
    "Std = np.array( [1755.0, 1691.1, 1697.1, 1477.7, 1785.2, 1669.7, 1901.3, 1735.3] )\n",
    "D   = IF - Std\n",
    "printSignedRank(D)\n",
    "\n",
    "result = wilcoxon(IF, Std, alternative = 'two-sided')\n",
    "print(\"Calculated S+ = %.1f\" % result.statistic)\n",
    "print(\"P-value       = %.3f\" % result.pvalue)"
   ]
  },
  {
   "cell_type": "code",
   "execution_count": 25,
   "id": "d44fa8ee-8c4d-4297-8873-b2d0184abefb",
   "metadata": {},
   "outputs": [
    {
     "name": "stdout",
     "output_type": "stream",
     "text": [
      "|    |       D |   signed rank |\n",
      "|---:|--------:|--------------:|\n",
      "|  0 |    -1.3 |            -1 |\n",
      "|  1 |   -86.7 |            -5 |\n",
      "|  2 |  -120.6 |            -6 |\n",
      "|  3 |  -198   |            -7 |\n",
      "|  4 |   -31   |            -4 |\n",
      "|  5 |    25.8 |             3 |\n",
      "|  6 | -1000   |            -8 |\n",
      "|  7 |   -18.3 |            -2 |\n",
      "Sum of array IF: 16381.0\n",
      "Sum of array Std: 17811.1\n",
      "Calculated S+ = 3.0\n",
      "P-value       = 0.039\n"
     ]
    }
   ],
   "source": [
    "### Suppose that subject 7 has extreme IF and Std values\n",
    "\n",
    "IF  = np.array( [1753.7, 1604.4, 1576.5, 1279.7, 1754.2, 1695.5, 5000, 1717.0] ) #SMALL VALUE 16381.0\n",
    "Std = np.array( [1755.0, 1691.1, 1697.1, 1477.7, 1785.2, 1669.7, 6000, 1735.3] ) # BIGGER VALUE 17811.1\n",
    "D = IF - Std # SMALLER - BIGGER\n",
    "printSignedRank(D)\n",
    "\n",
    "# Sum the values in each array\n",
    "sum_IF = np.sum(IF)\n",
    "sum_Std = np.sum(Std)\n",
    "\n",
    "# Output the results\n",
    "print(\"Sum of array IF:\", sum_IF)\n",
    "print(\"Sum of array Std:\", sum_Std)\n",
    "\n",
    "result = wilcoxon(IF, Std, alternative = 'two-sided')\n",
    "print(\"Calculated S+ = %.1f\" % result.statistic)\n",
    "print(\"P-value       = %.3f\" % result.pvalue)"
   ]
  },
  {
   "cell_type": "markdown",
   "id": "d1e5e8a8-d49f-4ff2-b9df-fa1cb0fdb2fa",
   "metadata": {},
   "source": [
    "<a name=\"ch11_ex_iron\"></a>\n",
    "\n",
    "### Example : iron temperature (1 sample)\n",
    "- Hypothesis\n",
    "    >- H<sub>0</sub> : $\\mu$ = 500\n",
    "    >- H<sub>1</sub> : $\\mu$ $\\ne$ 500\n",
    "- Create a dummy array of equal size, with all members = value to be tested\n",
    "- Apply W-SR test between $\\mu$ and dummy"
   ]
  },
  {
   "cell_type": "code",
   "execution_count": 5,
   "id": "7a0b6f8f-e9f2-407a-b8ea-c8e65df321f6",
   "metadata": {},
   "outputs": [
    {
     "name": "stdout",
     "output_type": "stream",
     "text": [
      "[500 500 500 500 500 500 500 500 500 500 500 500 500 500 500] \n",
      "\n",
      "|    |     D |   signed rank |\n",
      "|---:|------:|--------------:|\n",
      "|  0 |  -5.4 |            -8 |\n",
      "|  1 |  10.8 |            13 |\n",
      "|  2 | -12.5 |           -14 |\n",
      "|  3 |  -6.8 |           -11 |\n",
      "|  4 |   2.6 |             4 |\n",
      "|  5 | -15   |           -15 |\n",
      "|  6 |  -4.1 |            -6 |\n",
      "|  7 |  -1.8 |            -3 |\n",
      "|  8 |   1.6 |             2 |\n",
      "|  9 |  -2.7 |            -5 |\n",
      "| 10 |  -8   |           -12 |\n",
      "| 11 |   4.3 |             7 |\n",
      "| 12 |  -0.8 |            -1 |\n",
      "| 13 |  -6.5 |           -10 |\n",
      "| 14 |   5.8 |             9 | \n",
      "\n",
      "Calculated S+ = 35.0\n",
      "P-value       = 0.169\n"
     ]
    }
   ],
   "source": [
    "A = np.array( [494.6, 510.8, 487.5, 493.2, 502.6, 485.0, 495.9, 498.2,\n",
    "               501.6, 497.3, 492.0, 504.3, 499.2, 493.5, 505.8] )\n",
    "\n",
    "mutest = 500\n",
    "dummy  = np.full(A.size, mutest)\n",
    "print(dummy, \"\\n\")\n",
    "printSignedRank(A-dummy)\n",
    "\n",
    "result = wilcoxon(A, dummy, alternative = 'two-sided')\n",
    "print(\"Calculated S+ = %.1f\" % result.statistic)\n",
    "print(\"P-value       = %.3f\" % result.pvalue)"
   ]
  },
  {
   "cell_type": "code",
   "execution_count": 6,
   "id": "bc4ba0f6-c875-4553-a456-577797eb6ff8",
   "metadata": {},
   "outputs": [
    {
     "data": {
      "image/png": "[encoded data removed]",
      "text/plain": [
       "<Figure size 300x200 with 1 Axes>"
      ]
     },
     "metadata": {},
     "output_type": "display_data"
    },
    {
     "name": "stdout",
     "output_type": "stream",
     "text": [
      "Sample size = 15, mean = 497.43, sd = 6.9187 \n",
      "\n",
      "Calculated T = -1.44\n",
      "df           = 14\n",
      "P-value      = 0.1727\n"
     ]
    }
   ],
   "source": [
    "### Compare with parametric t-test\n",
    "\n",
    "fig = plt.figure( figsize = (3,2) )\n",
    "stats.probplot(A, dist = 'norm', plot = plt)\n",
    "plt.show()\n",
    "\n",
    "n  = A.size\n",
    "mu = A.mean()\n",
    "s  = A.std(ddof=1)\n",
    "print(\"Sample size = %d, mean = %.2f, sd = %.4f \\n\" % (n, mu, s))\n",
    "\n",
    "result = ttest_1samp(A, 500, alternative = 'two-sided')\n",
    "print(\"Calculated T = %.2f\" % result.statistic)\n",
    "print(\"df           = %d\"   % result.df)\n",
    "print(\"P-value      = %.4f\" % result.pvalue)"
   ]
  },
  {
   "cell_type": "code",
   "execution_count": 7,
   "id": "a10d9bcc-a746-4a82-ba60-66f076a29410",
   "metadata": {},
   "outputs": [
    {
     "name": "stdout",
     "output_type": "stream",
     "text": [
      "[500 500 500 500 500 500 500 500 500 500 500 500 500 500 500] \n",
      "\n",
      "|    |      D |   signed rank |\n",
      "|---:|-------:|--------------:|\n",
      "|  0 |   -5.4 |            -8 |\n",
      "|  1 |   10.8 |            13 |\n",
      "|  2 |  -12.5 |           -14 |\n",
      "|  3 |   -6.8 |           -11 |\n",
      "|  4 |    2.6 |             4 |\n",
      "|  5 | -496   |           -15 |\n",
      "|  6 |   -4.1 |            -6 |\n",
      "|  7 |   -1.8 |            -3 |\n",
      "|  8 |    1.6 |             2 |\n",
      "|  9 |   -2.7 |            -5 |\n",
      "| 10 |   -8   |           -12 |\n",
      "| 11 |    4.3 |             7 |\n",
      "| 12 |   -0.8 |            -1 |\n",
      "| 13 |   -6.5 |           -10 |\n",
      "| 14 |    5.8 |             9 | \n",
      "\n",
      "Calculated S+ = 35.0\n",
      "P-value       = 0.169 \n",
      "\n"
     ]
    },
    {
     "data": {
      "image/png": "[encoded data removed]",
      "text/plain": [
       "<Figure size 300x200 with 1 Axes>"
      ]
     },
     "metadata": {},
     "output_type": "display_data"
    },
    {
     "name": "stdout",
     "output_type": "stream",
     "text": [
      "Sample size = 15, mean = 465.37, sd = 127.7743 \n",
      "\n"
     ]
    }
   ],
   "source": [
    "### Suppose that a member has extreme value\n",
    "\n",
    "A = np.array( [494.6, 510.8, 487.5, 493.2, 502.6,   4.0, 495.9, 498.2,\n",
    "               501.6, 497.3, 492.0, 504.3, 499.2, 493.5, 505.8] )\n",
    "\n",
    "mutest = 500\n",
    "dummy  = np.full(A.size, mutest)\n",
    "print(dummy, \"\\n\")\n",
    "printSignedRank(A-dummy)\n",
    "\n",
    "result = wilcoxon(A, dummy, alternative = 'two-sided')\n",
    "print(\"Calculated S+ = %.1f\" % result.statistic)\n",
    "print(\"P-value       = %.3f\" % result.pvalue, \"\\n\")\n",
    "\n",
    "\n",
    "### Check whether we can use parametric t-test\n",
    "fig = plt.figure( figsize = (3,2) )\n",
    "stats.probplot(A, dist = 'norm', plot = plt)\n",
    "plt.show()\n",
    "\n",
    "n  = A.size\n",
    "mu = A.mean()\n",
    "s  = A.std(ddof=1)\n",
    "print(\"Sample size = %d, mean = %.2f, sd = %.4f \\n\" % (n, mu, s))"
   ]
  },
  {
   "cell_type": "markdown",
   "id": "d4a3fbc9-6302-469e-b33a-b5d45cd116b8",
   "metadata": {},
   "source": [
    "<a name=\"ch11_mannwhitney\"></a>\n",
    "\n",
    "## Wilcoxon Rank Sum vs. Mann-Whitney U (independent groups)\n",
    "- **[Manual: scipy.stats.ranksums](https://docs.scipy.org/doc/scipy/reference/generated/scipy.stats.ranksums.html)**\n",
    "- **[Manual: scipy.stats.mannwhitneyu](https://docs.scipy.org/doc/scipy/reference/generated/scipy.stats.mannwhitneyu.html)**\n",
    "- Can use this function to do the whole testing procedure **if raw data are available**\n",
    "- Testing $\\mu$<sub>A</sub> - $\\mu$<sub>B</sub> against 0 only"
   ]
  },
  {
   "cell_type": "markdown",
   "id": "fa9d320b-9873-4637-836a-58b2a344dad8",
   "metadata": {},
   "source": [
    "<a name=\"ch11_ex_fluoride\"></a>\n",
    "\n",
    "### Example : fluoride concentration\n",
    "- Hypothesis\n",
    "    >- H<sub>0</sub> : $\\mu$<sub>X</sub> - $\\mu$<sub>Y</sub> = 0\n",
    "    >- H<sub>1</sub> : $\\mu$<sub>X</sub> - $\\mu$<sub>Y</sub> < 0"
   ]
  },
  {
   "cell_type": "markdown",
   "id": "bcb02956-0946-479f-8e93-d95f6194aeca",
   "metadata": {},
   "source": [
    "<a name=\"ch11_func_print_rsums\"></a>\n",
    "#### Function : printRankSums"
   ]
  },
  {
   "cell_type": "code",
   "execution_count": 8,
   "id": "357a9a1e-f737-4ac7-a364-62fe5ab13aa4",
   "metadata": {},
   "outputs": [],
   "source": [
    "import pandas as pd\n",
    "\n",
    "### Just for quick overview. No tie handling\n",
    "\n",
    "def printRankSums(X, Y):\n",
    "    rank = list( range(1, X.size + Y.size + 1) )\n",
    "    dfX = pd.DataFrame( {'group': ['X'] * X.size,                   \n",
    "                         'value': X,\n",
    "                        }\n",
    "                      )\n",
    "    dfY = pd.DataFrame( {'group': ['Y'] * Y.size,                   \n",
    "                         'value': Y,\n",
    "                        }\n",
    "                      ) \n",
    "    df = pd.concat([dfX, dfY]).sort_values(by = 'value')\n",
    "    df['rank'] = rank\n",
    "\n",
    "    rankSumX = 0\n",
    "    rankSumY = 0\n",
    "    for index, row in df.iterrows():\n",
    "        if row['group'] == 'X':\n",
    "            rankSumX = rankSumX + row['rank']\n",
    "        elif row['group'] == 'Y':\n",
    "            rankSumY = rankSumY + row['rank']\n",
    "    \n",
    "    #print(df.to_markdown(index = False), \"\\n\")\n",
    "    print(df.set_index('group').T.to_markdown(), \"\\n\")\n",
    "    print(\"Rank sum X = %d, size = %d\" % (rankSumX, X.size))\n",
    "    print(\"Rank sum Y = %d, size = %d\" % (rankSumY, Y.size), \"\\n\")"
   ]
  },
  {
   "cell_type": "code",
   "execution_count": 9,
   "id": "bf9afade-c763-4ced-b83e-f3eb04021e40",
   "metadata": {},
   "outputs": [
    {
     "name": "stdout",
     "output_type": "stream",
     "text": [
      "|       |    X |    Y |    Y |    X |    X |    X |    Y |    Y |   X |    Y |    Y |   Y |\n",
      "|:------|-----:|-----:|-----:|-----:|-----:|-----:|-----:|-----:|----:|-----:|-----:|----:|\n",
      "| value | 14.2 | 16.8 | 17.1 | 17.2 | 18.3 | 18.4 | 18.7 | 19.7 |  20 | 20.9 | 21.3 |  23 |\n",
      "| rank  |  1   |  2   |  3   |  4   |  5   |  6   |  7   |  8   |   9 | 10   | 11   |  12 | \n",
      "\n",
      "Rank sum X = 25, size = 5\n",
      "Rank sum Y = 53, size = 7 \n",
      "\n",
      "=== Wilcoxon rank sum ===\n",
      "Approximated Z = -1.22\n",
      "P-value        = 0.112 \n",
      "\n",
      "=== Mann-Whitney U ===\n",
      "UX      = 10.00\n",
      "P-value = 0.134 \n",
      "\n"
     ]
    }
   ],
   "source": [
    "polluted   = np.array( [21.3, 18.7, 23.0, 17.1, 16.8, 20.9, 19.7] )\n",
    "unpolluted = np.array( [14.2, 18.3, 17.2, 18.4, 20.0] )\n",
    "\n",
    "X = unpolluted          # small group\n",
    "Y = polluted            # big group\n",
    "printRankSums(X, Y)\n",
    "\n",
    "result = ranksums(X, Y, alternative = 'less')\n",
    "print(\"=== Wilcoxon rank sum ===\")\n",
    "print(\"Approximated Z = %.2f\" % result.statistic)\n",
    "print(\"P-value        = %.3f\" % result.pvalue, \"\\n\")\n",
    "\n",
    "result = mannwhitneyu(X, Y, alternative = 'less')\n",
    "print(\"=== Mann-Whitney U ===\")\n",
    "print(\"UX      = %.2f\" % result.statistic)\n",
    "print(\"P-value = %.3f\" % result.pvalue, \"\\n\")"
   ]
  },
  {
   "cell_type": "code",
   "execution_count": 10,
   "id": "ff49dbf7-504d-4bb8-b954-a74ccae208de",
   "metadata": {},
   "outputs": [
    {
     "name": "stdout",
     "output_type": "stream",
     "text": [
      "|       |    X |    Y |    Y |    X |    X |    X |    Y |    Y |   X |    Y |    Y |   Y |\n",
      "|:------|-----:|-----:|-----:|-----:|-----:|-----:|-----:|-----:|----:|-----:|-----:|----:|\n",
      "| value | 1.42 | 16.8 | 17.1 | 17.2 | 18.3 | 18.4 | 18.7 | 19.7 |  20 | 20.9 | 21.3 | 230 |\n",
      "| rank  | 1    |  2   |  3   |  4   |  5   |  6   |  7   |  8   |   9 | 10   | 11   |  12 | \n",
      "\n",
      "Rank sum X = 25, size = 5\n",
      "Rank sum Y = 53, size = 7 \n",
      "\n",
      "=== Wilcoxon rank sum ===\n",
      "Approximated Z = -1.22\n",
      "P-value        = 0.112 \n",
      "\n",
      "=== Mann-Whitney U ===\n",
      "UX      = 10.00\n",
      "P-value = 0.134 \n",
      "\n"
     ]
    }
   ],
   "source": [
    "### Suppose that members in each group has extreme values\n",
    "\n",
    "polluted   = np.array( [21.3, 18.7,  230, 17.1, 16.8, 20.9, 19.7] )\n",
    "unpolluted = np.array( [1.42, 18.3, 17.2, 18.4, 20.0] )\n",
    "\n",
    "X = unpolluted          # small group\n",
    "Y = polluted            # big group\n",
    "printRankSums(X, Y)\n",
    "\n",
    "result = ranksums(X, Y, alternative = 'less')\n",
    "print(\"=== Wilcoxon rank sum ===\")\n",
    "print(\"Approximated Z = %.2f\" % result.statistic)\n",
    "print(\"P-value        = %.3f\" % result.pvalue, \"\\n\")\n",
    "\n",
    "result = mannwhitneyu(X, Y, alternative = 'less')\n",
    "print(\"=== Mann-Whitney U ===\")\n",
    "print(\"UX      = %.2f\" % result.statistic)\n",
    "print(\"P-value = %.3f\" % result.pvalue, \"\\n\")"
   ]
  },
  {
   "cell_type": "code",
   "execution_count": 11,
   "id": "d5c70946-9c34-4623-8e9f-8d2fffa6a603",
   "metadata": {},
   "outputs": [
    {
     "data": {
      "image/png": "[encoded data removed]",
      "text/plain": [
       "<Figure size 800x400 with 1 Axes>"
      ]
     },
     "metadata": {},
     "output_type": "display_data"
    },
    {
     "data": {
      "image/png": "[encoded data removed]",
      "text/plain": [
       "<Figure size 800x400 with 1 Axes>"
      ]
     },
     "metadata": {},
     "output_type": "display_data"
    }
   ],
   "source": [
    "import numpy as np\n",
    "import matplotlib.pyplot as plt\n",
    "import scipy.stats as stats\n",
    "\n",
    "# Data\n",
    "times = np.array([30.6, 30.1, 15.6, 26.7, 27.1, 25.4, 35.0, 30.8, 31.9, 53.2, 12.5, 23.2, 8.8, 24.9, 30.2])\n",
    "\n",
    "# Boxplot\n",
    "plt.figure(figsize=(8, 4))\n",
    "plt.boxplot(times, vert=False)\n",
    "plt.xlabel('Time in minutes')\n",
    "plt.title('Boxplot of Diagnostic Times')\n",
    "plt.grid(True)\n",
    "plt.show()\n",
    "\n",
    "# Q-Q Plot\n",
    "plt.figure(figsize=(8, 4))\n",
    "stats.probplot(times, dist=\"norm\", plot=plt)\n",
    "plt.title('Q-Q Plot of Diagnostic Times')\n",
    "plt.show()\n"
   ]
  },
  {
   "cell_type": "code",
   "execution_count": 18,
   "id": "3551f66b-7c19-4a2a-b58a-bf8e5751a587",
   "metadata": {},
   "outputs": [
    {
     "name": "stdout",
     "output_type": "stream",
     "text": [
      "3.1 Data Input:\n",
      " [30.6 30.1 15.6 26.7 27.1 25.4 35.  30.8 31.9 53.2 12.5 23.2  8.8 24.9\n",
      " 30.2]\n",
      "\n",
      "3.2 Data after deducting 30:\n",
      " [  0.6   0.1 -14.4  -3.3  -2.9  -4.6   5.    0.8   1.9  23.2 -17.5  -6.8\n",
      " -21.2  -5.1   0.2]\n",
      "\n",
      "3.3 Ranked Data:\n",
      "    Original Data  Differences  Rank\n",
      "1            30.1          0.1     1\n",
      "14           30.2          0.2     2\n",
      "0            30.6          0.6     3\n",
      "7            30.8          0.8     4\n",
      "8            31.9          1.9     5\n",
      "4            27.1         -2.9     6\n",
      "3            26.7         -3.3     7\n",
      "5            25.4         -4.6     8\n",
      "6            35.0          5.0     9\n",
      "13           24.9         -5.1    10\n",
      "11           23.2         -6.8    11\n",
      "2            15.6        -14.4    12\n",
      "10           12.5        -17.5    13\n",
      "12            8.8        -21.2    14\n",
      "9            53.2         23.2    15\n",
      "Wilcoxon Test Statistic (S+): 39.0\n",
      "P-value: 0.126190185546875\n"
     ]
    }
   ],
   "source": [
    "import numpy as np\n",
    "import scipy.stats as stats\n",
    "\n",
    "import numpy as np\n",
    "import pandas as pd\n",
    "\n",
    "def printRankSumsNew(data, num):\n",
    "    # Step 1: Subtract the median from each data point\n",
    "    differences = data - num\n",
    "    \n",
    "    # Step 2: Sort the differences by their absolute values\n",
    "    df = pd.DataFrame({\n",
    "        'Original Data': data,\n",
    "        'Differences': differences\n",
    "    })\n",
    "    df['Abs Differences'] = df['Differences'].abs()\n",
    "    df_sorted = df.sort_values(by='Abs Differences')\n",
    "    \n",
    "    # Assign ranks based on sorted absolute differences\n",
    "    df_sorted['Rank'] = range(1, len(df_sorted) + 1)\n",
    "    \n",
    "    # Display the steps\n",
    "    print(\"3.1 Data Input:\\n\", data)\n",
    "    print(\"\\n3.2 Data after deducting 30:\\n\", differences)\n",
    "    print(\"\\n3.3 Ranked Data:\")\n",
    "    print(df_sorted[['Original Data', 'Differences', 'Rank']])\n",
    "\n",
    "times = np.array([30.6, 30.1, 15.6, 26.7, 27.1, 25.4, 35.0, 30.8, 31.9, 53.2, 12.5, 23.2, 8.8, 24.9, 30.2])\n",
    "\n",
    "printRankSumsNew(times, 30)\n",
    "\n",
    "wilcoxon_results = stats.wilcoxon(times - 30, alternative='less')\n",
    "\n",
    "# Printing the results\n",
    "print(f\"Wilcoxon Test Statistic (S+): {wilcoxon_results.statistic}\")\n",
    "print(f\"P-value: {wilcoxon_results.pvalue}\")\n"
   ]
  },
  {
   "cell_type": "code",
   "execution_count": 26,
   "id": "c145c099-ae05-49b7-a550-db934dcd242f",
   "metadata": {},
   "outputs": [
    {
     "name": "stdout",
     "output_type": "stream",
     "text": [
      "Sum of array G: 779.1999999999999\n",
      "Sum of array S: 761.1999999999999\n",
      "|    |    D |   signed rank |\n",
      "|---:|-----:|--------------:|\n",
      "|  0 |  0.3 |             1 |\n",
      "|  1 | -2.8 |           -10 |\n",
      "|  2 | -3.9 |           -12 |\n",
      "|  3 | -0.6 |            -3 |\n",
      "|  4 | -1.2 |            -6 |\n",
      "|  5 |  1.1 |             5 |\n",
      "|  6 | -2.9 |           -11 |\n",
      "|  7 | -1.8 |            -7 |\n",
      "|  8 | -0.5 |            -2 |\n",
      "|  9 | -2.3 |            -8 |\n",
      "| 10 | -0.9 |            -4 |\n",
      "| 11 | -2.5 |            -9 |\n",
      "Calculated S+ = 6.0\n",
      "P-value       = 0.007\n"
     ]
    }
   ],
   "source": [
    "import numpy as np\n",
    "import pandas as pd\n",
    "from scipy.stats import wilcoxon\n",
    "\n",
    "# Function to print signed ranks\n",
    "def printSignedRank(D):\n",
    "    srank = [None] * D.size\n",
    "    sortindex = np.argsort(np.abs(D))\n",
    "    order = 1\n",
    "    for i in sortindex:\n",
    "        srank[i] = order\n",
    "        if D[i] < 0:\n",
    "            srank[i] = -order\n",
    "        order += 1\n",
    "\n",
    "    df = pd.DataFrame({\n",
    "        'D': D,\n",
    "        'signed rank': srank\n",
    "    })\n",
    "    print(df.to_markdown())  # Assuming Jupyter Notebook or compatible environment\n",
    "\n",
    "# Example data\n",
    "G = np.array([54.7, 58.5, 66.8, 46.1, 52.3, 74.3, 92.5, 40.2, 87.3, 74.8, 63.2, 68.5]) #BIGGER VALUE 779.1999999999999\n",
    "S = np.array([55.0, 55.7, 62.9, 45.5, 51.1, 75.4, 89.6, 38.4, 86.8, 72.5, 62.3, 66.0]) # SMALLER VALUE 761.1999999999999\n",
    "D = S - G # SMALLER - BIGGER\n",
    "\n",
    "# Sum the values in each array\n",
    "sum_G = np.sum(G)\n",
    "sum_S = np.sum(S)\n",
    "\n",
    "# Output the results\n",
    "print(\"Sum of array G:\", sum_G)\n",
    "print(\"Sum of array S:\", sum_S)\n",
    "\n",
    "# Calculate and print signed ranks\n",
    "printSignedRank(D)\n",
    "\n",
    "# Perform Wilcoxon signed-rank test\n",
    "result = wilcoxon(G, S, alternative='two-sided')\n",
    "print(\"Calculated S+ = %.1f\" % result.statistic)\n",
    "print(\"P-value       = %.3f\" % result.pvalue)\n"
   ]
  },
  {
   "cell_type": "code",
   "execution_count": 27,
   "id": "860ddf83-39e8-4468-9802-9013422b76a9",
   "metadata": {},
   "outputs": [
    {
     "name": "stdout",
     "output_type": "stream",
     "text": [
      "|       |    Y |    Y |    X |    X |   X |    Y |    X |   X |    Y |     X |     Y |     Y |     Y |     Y |\n",
      "|:------|-----:|-----:|-----:|-----:|----:|-----:|-----:|----:|-----:|------:|------:|------:|------:|------:|\n",
      "| value | 0.48 | 0.67 | 0.73 | 0.98 | 1.2 | 1.23 | 1.33 | 1.4 | 1.42 |  1.52 |  1.55 |  1.56 |  1.72 |  1.77 |\n",
      "| rank  | 1    | 2    | 3    | 4    | 5   | 6    | 7    | 8   | 9    | 10    | 11    | 12    | 13    | 14    | \n",
      "\n",
      "Rank sum X = 37, size = 6\n",
      "Rank sum Y = 68, size = 8 \n",
      "\n",
      "=== Wilcoxon rank sum ===\n",
      "Approximated Z = -1.03\n",
      "P-value        = 0.151 \n",
      "\n",
      "=== Mann-Whitney U ===\n",
      "UX      = 16.00\n",
      "P-value = 0.172 \n",
      "\n"
     ]
    }
   ],
   "source": [
    "### Suppose that members in each group has extreme values\n",
    "def printRankSums(X, Y):\n",
    "    rank = list( range(1, X.size + Y.size + 1) )\n",
    "    dfX = pd.DataFrame( {'group': ['X'] * X.size,                   \n",
    "                         'value': X,\n",
    "                        }\n",
    "                      )\n",
    "    dfY = pd.DataFrame( {'group': ['Y'] * Y.size,                   \n",
    "                         'value': Y,\n",
    "                        }\n",
    "                      ) \n",
    "    df = pd.concat([dfX, dfY]).sort_values(by = 'value')\n",
    "    df['rank'] = rank\n",
    "\n",
    "    rankSumX = 0\n",
    "    rankSumY = 0\n",
    "    for index, row in df.iterrows():\n",
    "        if row['group'] == 'X':\n",
    "            rankSumX = rankSumX + row['rank']\n",
    "        elif row['group'] == 'Y':\n",
    "            rankSumY = rankSumY + row['rank']\n",
    "    \n",
    "    #print(df.to_markdown(index = False), \"\\n\")\n",
    "    print(df.set_index('group').T.to_markdown(), \"\\n\")\n",
    "    print(\"Rank sum X = %d, size = %d\" % (rankSumX, X.size))\n",
    "    print(\"Rank sum Y = %d, size = %d\" % (rankSumY, Y.size), \"\\n\")\n",
    "\n",
    "oak = np.array([1.72, .67, 1.55, 1.56, 1.42, 1.23, 1.77, .48])\n",
    "pine = np.array([.98, 1.40, 1.33, 1.52, .73, 1.20])\n",
    "\n",
    "X = pine  # smaller group\n",
    "Y = oak   # bigger group\n",
    "printRankSums(X, Y)\n",
    "\n",
    "result = ranksums(X, Y, alternative = 'less')\n",
    "print(\"=== Wilcoxon rank sum ===\")\n",
    "print(\"Approximated Z = %.2f\" % result.statistic)\n",
    "print(\"P-value        = %.3f\" % result.pvalue, \"\\n\")\n",
    "\n",
    "result = mannwhitneyu(X, Y, alternative = 'less')\n",
    "print(\"=== Mann-Whitney U ===\")\n",
    "print(\"UX      = %.2f\" % result.statistic)\n",
    "print(\"P-value = %.3f\" % result.pvalue, \"\\n\")"
   ]
  },
  {
   "cell_type": "code",
   "execution_count": null,
   "id": "d2cc2ead-78f8-4773-b700-53826960bca3",
   "metadata": {},
   "outputs": [],
   "source": []
  }
 ],
 "metadata": {
  "kernelspec": {
   "display_name": "anaconda-panel-2023.05-py310",
   "language": "python",
   "name": "conda-env-anaconda-panel-2023.05-py310-py"
  },
  "language_info": {
   "codemirror_mode": {
    "name": "ipython",
    "version": 3
   },
   "file_extension": ".py",
   "mimetype": "text/x-python",
   "name": "python",
   "nbconvert_exporter": "python",
   "pygments_lexer": "ipython3",
   "version": "3.11.5"
  }
 },
 "nbformat": 4,
 "nbformat_minor": 5
}
