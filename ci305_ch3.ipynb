{
 "cells": [
  {
   "cell_type": "markdown",
   "id": "d2845d01-38dc-4325-92a8-17b79b97ec17",
   "metadata": {},
   "source": [
    "# EGCI 305: Chapter 3 (Continuous Distributions)\n",
    "\n",
    "Outline\n",
    "> 1. [Packages](#ch3_packages)\n",
    "\n",
    "> 2. [Integral calculation](#ch3_integral)\n",
    ">    - [Example: dynamic load](#ch3_ex_dynamic)\n",
    "\n",
    "> 3. [Uniform distribution](#ch3_uniform)\n",
    ">    - [Example: tire](#ch3_ex_tire)\n",
    "\n",
    "> 4. [Normal distribution](#ch3_normal)\n",
    ">    - [Example: Z distribution](#ch3_ex_z)\n",
    ">    - [Example: rear-end collision](#ch3_ex_rear)\n",
    ">    - [Example: water overflow](#ch3_ex_water)\n",
    "\n",
    "> 5. [Exponential distribution](#ch3_exponential)\n",
    ">    - [Example: stress range](#ch3_ex_stress)\n",
    "\n",
    "Functions\n",
    "> - [getPercentileValues](#ch3_func_percentile)\n",
    "> - [X and Z conversions](#ch3_func_xz)"
   ]
  },
  {
   "cell_type": "markdown",
   "id": "a564613e-f234-437f-acd0-381e074f9d4d",
   "metadata": {},
   "source": [
    "<a name=\"ch3_packages\"></a>\n",
    "\n",
    "## Packages\n",
    "> - **numpy** -- to work with array manipulation\n",
    "> - **matplotlib** -- to work with visualization (backend)\n",
    "> - **seaborn** -- to work with high-level visualization\n",
    "> - **scipy.stats** -- to work with stat\n",
    "> - **sympy** -- to work with integral calculation"
   ]
  },
  {
   "cell_type": "code",
   "execution_count": null,
   "id": "84400489-2276-49b0-a621-e5244e731154",
   "metadata": {},
   "outputs": [],
   "source": [
    "import numpy as np\n",
    "import matplotlib.pyplot as plt\n",
    "import seaborn as sns\n",
    "\n",
    "print(\"Numpy version =\", np.version.version)\n",
    "print(\"Seaborn version =\", sns.__version__)\n",
    "\n",
    "import scipy\n",
    "print(\"Scipy version =\", scipy.__version__)\n",
    "\n",
    "from scipy import stats\n",
    "from scipy.stats import uniform         # Uniform distribution\n",
    "from scipy.stats import norm            # Normal distribution\n",
    "from scipy.stats import expon           # Exponential distribution\n",
    "\n",
    "\n",
    "import sympy\n",
    "print(\"Sympy version =\", sympy.__version__)\n",
    "\n",
    "from sympy import *"
   ]
  },
  {
   "cell_type": "markdown",
   "id": "89fd0521-288d-4ec9-bfb8-a6b44ddfdfb4",
   "metadata": {},
   "source": [
    "<a name=\"ch3_integral\"></a>\n",
    "\n",
    "## Integral Calculation\n",
    "- **[Manual:sympy.integrals.integrals.Integral](https://docs.sympy.org/latest/modules/integrals/integrals.html#sympy.integrals.integrals.Integral)** "
   ]
  },
  {
   "cell_type": "markdown",
   "id": "6deafd5a-985c-44f6-afec-e8afabceb3ea",
   "metadata": {},
   "source": [
    "<a name=\"ch3_ex_dynamic\"></a>\n",
    "\n",
    "### Example : dynamic load"
   ]
  },
  {
   "cell_type": "code",
   "execution_count": null,
   "id": "920643c8-0f96-4b1f-b824-24c6cba277b5",
   "metadata": {},
   "outputs": [],
   "source": [
    "#----- Declare variable & function symbols\n",
    "x  = Symbol('x')\n",
    "y  = Symbol('y')\n",
    "fy = Function('fy')(y)\n",
    "fy = (1/8) + (3*y/8)\n",
    "\n",
    "#------ fy by dy \n",
    "cdf_x_nobound = Integral(fy, y)            \n",
    "cdf_x_bound   = Integral(fy, (y, 0, x))    \n",
    "\n",
    "pprint(cdf_x_bound, use_unicode=True)       \n",
    "cdf_x_bound.doit() "
   ]
  },
  {
   "cell_type": "code",
   "execution_count": null,
   "id": "c515c88d-3b9a-4863-a080-031f4deaeed1",
   "metadata": {},
   "outputs": [],
   "source": [
    "#------ Substitute values in the solved integral\n",
    "Fx = cdf_x_bound.doit()\n",
    "upper = Fx.subs(x, 1.5)\n",
    "lower = Fx.subs(x, 1)\n",
    "print(\"F(1.5) - F(1) = %.4f\" % (upper-lower))\n",
    "\n",
    "#------ Or solve integral using 1-1.5 bounds\n",
    "result = Integral(fy, (y, 1, 1.5)).doit()\n",
    "print(\"Result = %.4f\" % result)"
   ]
  },
  {
   "cell_type": "markdown",
   "id": "17c40c73-d045-4a1e-8d7d-b14a88278667",
   "metadata": {},
   "source": [
    "<a name=\"ch3_uniform\"></a>\n",
    "\n",
    "## Uniform Distribution\n",
    "- **[Manual: scipy.stats.rv_continuous](https://docs.scipy.org/doc/scipy/reference/generated/scipy.stats.rv_continuous.html#scipy.stats.rv_continuous)**\n",
    "- **[Manual: scipy.stats.uniform](https://docs.scipy.org/doc/scipy/reference/generated/scipy.stats.uniform.html#scipy.stats.uniform)**\n",
    "    > - For U(A, B) --> loc = A, scale = B-A\n",
    "    > - Default loc = 0\n",
    "    > - Defalut scale = 1"
   ]
  },
  {
   "cell_type": "markdown",
   "id": "151d92f0-ae73-4bc2-913e-1c1a6d92e9cf",
   "metadata": {},
   "source": [
    "<a name=\"ch3_ex_tire\"></a>\n",
    "\n",
    "### Example : tire\n",
    "> X $\\sim$ U(0, 360)"
   ]
  },
  {
   "cell_type": "markdown",
   "id": "4c0c7651-7f16-4aa1-9fe3-463db36de326",
   "metadata": {},
   "source": [
    "<a name=\"ch3_func_percentile\"></a>\n",
    "#### Function : getPercentileValues"
   ]
  },
  {
   "cell_type": "code",
   "execution_count": null,
   "id": "8175b39f-b013-4339-a5eb-0b6705aaff06",
   "metadata": {},
   "outputs": [],
   "source": [
    "# Get values at percentiles 1-99 of a certain distribution\n",
    "\n",
    "def getPercentileValues(dist, loc, scale):\n",
    "    r_values = np.linspace( dist.ppf(0.01, loc, scale),\n",
    "                            dist.ppf(0.99, loc, scale),\n",
    "                            100\n",
    "                          )\n",
    "    return r_values"
   ]
  },
  {
   "cell_type": "code",
   "execution_count": null,
   "id": "b8a82965-0fa0-4843-a002-8e950836e6f7",
   "metadata": {
    "tags": []
   },
   "outputs": [],
   "source": [
    "#------ Uniform params\n",
    "A = 0          \n",
    "B = 360 \n",
    "\n",
    "loc   = A\n",
    "scale = B-A\n",
    "\n",
    "\n",
    "#------ Some float values\n",
    "r_values = np.arange(-100, 500, 1)                      # step by 1\n",
    "# r_values = np.linspace(-100, 500, 100)                # 100 values of equal interval\n",
    "# r_values = getPercentileValues(uniform, loc, scale)   # percentiles 1-99\n",
    "\n",
    "#------ pdf & cdf of each value\n",
    "pdf = uniform.pdf(r_values, loc, scale)\n",
    "cdf = uniform.cdf(r_values, loc, scale)\n",
    "\n",
    "#------ mean, variance, sd\n",
    "mean = uniform.mean(loc, scale)\n",
    "var  = uniform.var(loc, scale)\n",
    "std  = uniform.std(loc, scale)\n",
    "print(\"mean = %.2f, variance = %.2f, sd = %.2f \\n\" % (mean, var, std))\n",
    "\n",
    "#------ pdf, cdf plots\n",
    "fig = plt.figure( figsize = (12,4) )\n",
    "plt.subplot(121)\n",
    "plt.plot(r_values, pdf)\n",
    "plt.title(\"pdf of U(%d, %d)\" % (A, B))\n",
    "\n",
    "plt.subplot(122)\n",
    "plt.plot(r_values, cdf)\n",
    "plt.title(\"cdf of U(%d, %d)\" % (A, B))\n",
    "plt.show()"
   ]
  },
  {
   "cell_type": "markdown",
   "id": "d33ed7d4-b9eb-424f-b43d-78d3348f0dbe",
   "metadata": {},
   "source": [
    "**Questions**\n",
    "> - Q1 : P(90 <= X <= 180) \n",
    "> - Q2 : P(0 <= X <= 90) + P(270 <= X <= 360)"
   ]
  },
  {
   "cell_type": "code",
   "execution_count": null,
   "id": "23a5eab8-6876-4a8d-ba6d-f92ff430ed02",
   "metadata": {},
   "outputs": [],
   "source": [
    "cdf_90  = uniform.cdf(90, loc, scale)\n",
    "cdf_180 = uniform.cdf(180, loc, scale)\n",
    "Q1 = cdf_180 - cdf_90\n",
    "print(\"P(X <= 90)  = %.3f\" % cdf_90)\n",
    "print(\"P(X <= 180) = %.3f\" % cdf_180)\n",
    "print(\"Q1 = %.3f \\n\" % Q1)\n",
    "\n",
    "cdf_0   = uniform.cdf(0, loc, scale)\n",
    "cdf_270 = uniform.cdf(270, loc, scale)\n",
    "cdf_360 = uniform.cdf(360, loc, scale)\n",
    "Q2 = (cdf_90 - cdf_0) + (cdf_360 - cdf_270)\n",
    "print(\"P(X <= 0)   = %.3f\" % cdf_0)\n",
    "print(\"P(X <= 90)  = %.3f\" % cdf_90)\n",
    "print(\"P(X <= 270) = %.3f\" % cdf_270)\n",
    "print(\"P(X <= 360) = %.3f\" % cdf_360)\n",
    "print(\"Q2 = %.3f \\n\" % Q2)"
   ]
  },
  {
   "cell_type": "markdown",
   "id": "8ec52e97-fd17-449b-a576-9928ba5b5859",
   "metadata": {},
   "source": [
    "<a name=\"ch3_normal\"></a>\n",
    "\n",
    "## Normal Distribution\n",
    "- **[Manual: scipy.stats.norm](https://docs.scipy.org/doc/scipy/reference/generated/scipy.stats.norm.html#scipy.stats.norm)**\n",
    "    > - For N($\\mu$, $\\sigma$<sup>2</sup>) --> loc = $\\mu$, scale = $\\sigma$\n",
    "    > - Default loc = 0\n",
    "    > - Default scale = 1"
   ]
  },
  {
   "cell_type": "markdown",
   "id": "0717499d-efc0-41bc-9d5c-7630adcba9b4",
   "metadata": {},
   "source": [
    "<a name=\"ch3_ex_z\"></a>\n",
    "\n",
    "### Example : Z distribution\n",
    "> Z $\\sim$ N(0, 1)\n",
    "\n",
    "**Questions**\n",
    "> - Q1 : P(Z <= 1.25)\n",
    "> - Q2 : P(Z <= -1.25)\n",
    "> - Q3 : P(-0.38 <= Z <= 1.25)\n",
    "> - Q4 : P(Z < ?) = 0.05\n",
    "> - Q5 : P(Z < ?) = 0.95"
   ]
  },
  {
   "cell_type": "code",
   "execution_count": null,
   "id": "4bcf08d7-cf9a-4fdd-a41e-ed2959c18f17",
   "metadata": {},
   "outputs": [],
   "source": [
    "#------ Z params\n",
    "loc   = 0\n",
    "scale = 1\n",
    "\n",
    "\n",
    "#------ Find probability (i.e. cdf) from Z value\n",
    "Q1 = norm.cdf(1.25)\n",
    "print(\"Q1 = %.4f\" % Q1)\n",
    "\n",
    "Q2 = norm.cdf(-1.25)\n",
    "print(\"Q2 = %.4f\" % Q2)\n",
    "\n",
    "Q3 = norm.cdf(1.25) - norm.cdf(-0.38)\n",
    "print(\"Q3 = %.4f \\n\" % Q3)\n",
    "\n",
    "\n",
    "#------ Find Z value (i.e. percentile) from cdf\n",
    "Q4 = norm.ppf(0.05)\n",
    "print(\"Q4 = %.4f\" % Q4)\n",
    "\n",
    "Q5 = norm.ppf(0.95)\n",
    "print(\"Q5 = %.4f\" % Q5)"
   ]
  },
  {
   "cell_type": "markdown",
   "id": "d081cc0d-560d-41b3-8ad4-2a63fcd36cf9",
   "metadata": {},
   "source": [
    "<a name=\"ch3_ex_rear\"></a>\n",
    "\n",
    "### Example : rear-end collision\n",
    "> - $\\mu$ = 1.25, $\\sigma$ = 0.46\n",
    "> - X $\\sim$ N(1.25, 0.46 * 0.46)\n",
    "\n",
    "**Questions**\n",
    "> - Q1 : P(1 < X < 1.75)\n",
    "> - Q2 : P(X > 2)"
   ]
  },
  {
   "cell_type": "markdown",
   "id": "b5f3e67f-94d7-428f-a2a2-1e5416442925",
   "metadata": {},
   "source": [
    "<a name=\"ch3_func_xz\"></a>\n",
    "#### Functions : X and Z conversions"
   ]
  },
  {
   "cell_type": "code",
   "execution_count": null,
   "id": "edba7bad-8b5d-4eea-89cf-d453d7e744d1",
   "metadata": {},
   "outputs": [],
   "source": [
    "# Convert between X and Z of normal distribution\n",
    "\n",
    "def getZfromX(x, loc, scale):\n",
    "    z = (x - loc)/scale\n",
    "    return z\n",
    "\n",
    "def getXfromZ(z, loc, scale):\n",
    "    x = z * scale + loc\n",
    "    return x"
   ]
  },
  {
   "cell_type": "code",
   "execution_count": null,
   "id": "0c639006-40c1-4b35-93e8-3c60a11a8a61",
   "metadata": {},
   "outputs": [],
   "source": [
    "#------ With programming, we can use X directly\n",
    "loc    = 1.25\n",
    "scale  = 0.46\n",
    "xlower = 1\n",
    "xupper = 1.75\n",
    "Q1_x = norm.cdf(xupper, loc, scale) - norm.cdf(xlower, loc, scale)\n",
    "print(\"Q1 by X = %.4f\" % Q1_x)\n",
    "\n",
    "#------ But with manual calculation, we have to use Z\n",
    "#       For manual Z-table lookup, use Z with 2 decimals\n",
    "zlower = getZfromX(xlower, loc, scale)\n",
    "zupper = getZfromX(xupper, loc, scale)\n",
    "# zlower = round(zlower, 2)\n",
    "# zupper = round(zupper, 2)\n",
    "Q1_z = norm.cdf(zupper) - norm.cdf(zlower)\n",
    "print(\"Q1 by Z = %.4f, zlower = %.2f, zupper = %.2f\" % \n",
    "      (Q1_z, zlower, zupper)\n",
    "     )"
   ]
  },
  {
   "cell_type": "code",
   "execution_count": null,
   "id": "7d5e67fd-8dd4-4d9e-a397-ec1afe1b04c8",
   "metadata": {},
   "outputs": [],
   "source": [
    "x = 2\n",
    "Q2_x = 1 - norm.cdf(x, loc, scale)\n",
    "\n",
    "z = getZfromX(x, loc, scale)\n",
    "Q2_z = 1 - norm.cdf(z)\n",
    "\n",
    "print(\"Q2 by X = %.4f\" % Q2_x)\n",
    "print(\"Q2 by Z = %.4f, z = %.2f\" % (Q2_z, z))"
   ]
  },
  {
   "cell_type": "markdown",
   "id": "12572308-446c-41a3-844d-c8407ccc2c16",
   "metadata": {},
   "source": [
    "<a name=\"ch3_ex_water\"></a>\n",
    "\n",
    "### Example : water overflow\n",
    "> - $\\mu$ = 64, $\\sigma$ = 0.78\n",
    "> - X $\\sim$ N(64, 0.78 * 0.78)\n",
    "\n",
    "**Questions**\n",
    "> - Q1 : P(X < ?) = 0.995"
   ]
  },
  {
   "cell_type": "code",
   "execution_count": null,
   "id": "717096c5-5f0b-46ae-9c69-834895f486c0",
   "metadata": {},
   "outputs": [],
   "source": [
    "loc   = 64\n",
    "scale = 0.78\n",
    "Q1    = norm.ppf(0.995, loc, scale)\n",
    "print(\"Q1 = %.4f\" % Q1)\n",
    "\n",
    "z = norm.ppf(0.995)\n",
    "x = getXfromZ(z, loc, scale)\n",
    "print(\" z = %.4f \\n x = %.4f \\n\" % (z, x))\n",
    "\n",
    "\n",
    "#------ Values at percentiles 1-99 for pdf plot\n",
    "x_values = getPercentileValues(norm, loc, scale)\n",
    "z_values = getPercentileValues(norm, 0, 1)\n",
    "\n",
    "fig = plt.figure( figsize = (12,4) )\n",
    "plt.subplot(121)\n",
    "plt.plot(x_values, norm.pdf(x_values, loc, scale))\n",
    "plt.title(\"pdf of X\")\n",
    "\n",
    "plt.subplot(122)\n",
    "plt.plot(z_values, norm.pdf(z_values))\n",
    "plt.title(\"pdf of Z\")\n",
    "plt.show()"
   ]
  },
  {
   "cell_type": "markdown",
   "id": "9238e0b5-fc2c-4847-83cb-d0494e08bf22",
   "metadata": {},
   "source": [
    "<a name=\"ch3_exponential\"></a>\n",
    "\n",
    "## Exponential Distribution\n",
    "- **[Manual: scipy.stats.expon](https://docs.scipy.org/doc/scipy/reference/generated/scipy.stats.expon.html)**\n",
    "    > - For Exp($\\lambda$) --> scale = 1/$\\lambda$\n",
    "    > - Default loc = 0\n",
    "    > - Default scale = 1"
   ]
  },
  {
   "cell_type": "markdown",
   "id": "cfd8bace-eed8-4a02-a603-3cabfb1f6fc8",
   "metadata": {},
   "source": [
    "<a name=\"ch3_ex_stress\"></a>\n",
    "\n",
    "### Example : stress range\n",
    "> - 1 / $\\lambda$ = 6\n",
    "> - X $\\sim$ Exp(1/6)\n",
    "\n",
    "**Questions**\n",
    "> - Q1 : P(X <= 10)\n",
    "> - Q2 : P(5 <= X <= 10)"
   ]
  },
  {
   "cell_type": "code",
   "execution_count": null,
   "id": "22f419fa-9514-4efb-be26-719ceb4a6573",
   "metadata": {},
   "outputs": [],
   "source": [
    "#------ Exponential params\n",
    "loc   = 0\n",
    "scale = 6\n",
    "lmd   = 1/scale                         # lambda is Python's keyword\n",
    "print(\"lambda = %.4f\" % lmd)\n",
    "\n",
    "#------ mean, variance, std\n",
    "mean = expon.mean(loc, scale)\n",
    "var  = expon.var(loc, scale)\n",
    "std  = expon.std(loc, scale)\n",
    "print(\"mean = %.2f, variance = %.2f, sd = %.2f \\n\" % (mean, var, std))\n",
    "\n",
    "Q1 = expon.cdf(10, loc, scale)\n",
    "Q2 = expon.cdf(10, loc, scale) - expon.cdf(5, loc, scale)\n",
    "print(\"Q1 = %.4f\" % Q1)\n",
    "print(\"Q2 = %.4f\" % Q2, \"\\n\")\n",
    "\n",
    "\n",
    "r_values = getPercentileValues(expon, loc, scale)\n",
    "fig = plt.figure( figsize = (12,4) )\n",
    "plt.subplot(121)\n",
    "plt.plot(r_values, expon.pdf(r_values, loc, scale))\n",
    "plt.title(\"pdf of Exp(%.4f)\" % lmd)\n",
    "\n",
    "plt.subplot(122)\n",
    "plt.plot(r_values, expon.cdf(r_values, loc, scale))\n",
    "plt.title(\"cdf of Exp(%.4f)\" % lmd)\n",
    "plt.show()"
   ]
  },
  {
   "cell_type": "code",
   "execution_count": null,
   "id": "0930600b-8a35-4640-a7e2-7a06f30d45a0",
   "metadata": {},
   "outputs": [],
   "source": []
  }
 ],
 "metadata": {
  "kernelspec": {
   "display_name": "anaconda-panel-2023.05-py310",
   "language": "python",
   "name": "conda-env-anaconda-panel-2023.05-py310-py"
  },
  "language_info": {
   "codemirror_mode": {
    "name": "ipython",
    "version": 3
   },
   "file_extension": ".py",
   "mimetype": "text/x-python",
   "name": "python",
   "nbconvert_exporter": "python",
   "pygments_lexer": "ipython3",
   "version": "3.11.5"
  }
 },
 "nbformat": 4,
 "nbformat_minor": 5
}
