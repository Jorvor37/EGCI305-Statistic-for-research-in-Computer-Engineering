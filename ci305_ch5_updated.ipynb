{
 "cells": [
  {
   "cell_type": "markdown",
   "id": "d2845d01-38dc-4325-92a8-17b79b97ec17",
   "metadata": {},
   "source": [
    "# EGCI 305: Chapter 5 (Estimation)\n",
    "\n",
    "Outline\n",
    "> 1. [Packages](#ch5_packages)\n",
    "\n",
    "> 2. [Example: bushing's hole](#ch5_ex_bushing)\n",
    "\n",
    "> 3. [T distribution](#ch5_t)\n",
    ">    - [Example: T distribution](#ch5_ex_t)\n",
    ">    - [Example: fat content](#ch5_ex_fat)\n",
    "\n",
    "> 4. [Chi-square distribution](#ch5_chi)\n",
    ">    - [Example: breakdown voltage](#ch5_ex_breakdown)"
   ]
  },
  {
   "cell_type": "markdown",
   "id": "a564613e-f234-437f-acd0-381e074f9d4d",
   "metadata": {},
   "source": [
    "<a name=\"ch5_packages\"></a>\n",
    "\n",
    "## Packages\n",
    "> - **numpy** -- to work with array manipulation\n",
    "> - **matplotlib** -- to work with visualization (backend)\n",
    "> - **seaborn** -- to work with high-level visualization\n",
    "> - **scipy.stats** -- to work with stat\n",
    "> - **sympy** -- to work with integral calculation"
   ]
  },
  {
   "cell_type": "code",
   "execution_count": null,
   "id": "84400489-2276-49b0-a621-e5244e731154",
   "metadata": {},
   "outputs": [],
   "source": [
    "# Import necessary libraries for statistical analysis and visualization\n",
    "import numpy as np  # For numerical operations\n",
    "import matplotlib.pyplot as plt  # For plotting\n",
    "import seaborn as sns  # For statistical data visualization\n",
    "\n",
    "# Print the versions of the imported libraries\n",
    "print(\"Numpy version =\", np.version.version)\n",
    "print(\"Seaborn version =\", sns.__version__)\n",
    "\n",
    "import scipy  # Import SciPy for scientific computations\n",
    "print(\"Scipy version =\", scipy.__version__)\n",
    "\n",
    "# Import statistical functions from SciPy\n",
    "from scipy import stats\n",
    "from scipy.stats import norm  # Normal distribution\n",
    "from scipy.stats import t  # T distribution\n",
    "from scipy.stats import chi2  # Chi-squared distribution\n",
    "\n",
    "# Import sympy for symbolic mathematics and integral calculations\n",
    "import sympy\n",
    "print(\"Sympy version =\", sympy.__version__)\n",
    "\n",
    "from sympy import *\n"
   ]
  },
  {
   "cell_type": "markdown",
   "id": "4ada2039-b3af-49a8-a363-a376589d570f",
   "metadata": {},
   "source": [
    "<a name=\"ch5_ex_bushing\"></a>\n",
    "\n",
    "### Example : bushing's hole\n",
    "> - n = 40\n",
    "> - xbar = 5.426\n",
    "> - sd = 0.1\n",
    "> - confidence = 0.90\n",
    "#### Note that\n",
    "> - X has normal distribution with mean = 5.426, sd = 0.1\n",
    "> - $\\bar{X}$ has normal distribution with mean = 5.426, sd = 0.1 /$\\sqrt{40}$"
   ]
  },
  {
   "cell_type": "code",
   "execution_count": null,
   "id": "8ee47d08-9f22-4930-acb6-466594dae12b",
   "metadata": {},
   "outputs": [],
   "source": [
    "# Calculate the critical z-value for a 90% confidence interval\n",
    "zvalue = norm.ppf(1-0.05)  # 1 - (alpha/2) for two-tailed test\n",
    "print(\"Z value = %.2f\" % zvalue)"
   ]
  },
  {
   "cell_type": "code",
   "execution_count": null,
   "id": "1748e4ae-e576-4bad-9991-9b64c419ef3a",
   "metadata": {},
   "outputs": [],
   "source": [
    "loc = 5.426\n",
    "scale = 0.1 / float(sqrt(40))\n",
    "\n",
    "### Interval function only supports 2-sided interval\n",
    "interval = norm.interval(0.90, loc, scale)\n",
    "print(\"Interval    =\", np.round(interval, 3) )\n",
    "print(\"Lower bound = %.3f\" % interval[0])\n",
    "print(\"Upper bound = %.3f\" % interval[1])"
   ]
  },
  {
   "cell_type": "code",
   "execution_count": null,
   "id": "b50d02e1-7e84-4332-a883-abb6370d2ccc",
   "metadata": {},
   "outputs": [],
   "source": [
    "### If using default loc = 0, scale = 1\n",
    "interval = norm.interval(0.90)\n",
    "print(\"Interval    =\", np.round(interval, 3) )\n",
    "print(\"Lower bound = %.3f\" % interval[0])\n",
    "print(\"Upper bound = %.3f\" % interval[1])"
   ]
  },
  {
   "cell_type": "markdown",
   "id": "d750a9f8-eb99-4a09-9690-69ae0f1c9a6d",
   "metadata": {},
   "source": [
    "<a name=\"ch5_t\"></a>\n",
    "\n",
    "## T Distribution\n",
    "- **[Manual: scipy.stats.t](https://docs.scipy.org/doc/scipy/reference/generated/scipy.stats.t.html)**\n",
    "    > - For t<sub>(df)</sub> --> loc = $\\mu$, scale = s /$\\sqrt n$\n",
    "    > - Default loc = 0\n",
    "    > - Default scale = 1"
   ]
  },
  {
   "cell_type": "markdown",
   "id": "92bb760d-8e2a-4023-b8b2-d393af1f7221",
   "metadata": {},
   "source": [
    "<a name=\"ch5_ex_t\"></a>\n",
    "\n",
    "### Example : T distribution\n",
    "> t<sub>(df=5)</sub>\n",
    "\n",
    "**Questions**\n",
    "> - Q1 : P(T < ?) = 0.95\n",
    "> - Q2 : P(T < 2.015<sub>(df=5)</sub>) = ?"
   ]
  },
  {
   "cell_type": "code",
   "execution_count": null,
   "id": "95c49f70-a61f-4ec5-9c4e-8f29abf2087b",
   "metadata": {},
   "outputs": [],
   "source": [
    "### Try df = 5 and df = 40\n",
    "df = 5\n",
    "\n",
    "Q1_t = t.ppf(0.95, df)\n",
    "Q1_z = norm.ppf(0.95)\n",
    "print(\"Q1 t = %.3f\" % Q1_t)\n",
    "print(\"Q1 z = %.3f\" % Q1_z, \"\\n\")\n",
    "\n",
    "Q2_t = t.cdf(2.015, df)\n",
    "Q2_z = norm.cdf(2.015)\n",
    "print(\"Q2 t = %.3f\" % Q2_t)\n",
    "print(\"Q2 z = %.3f\" % Q2_z)"
   ]
  },
  {
   "cell_type": "markdown",
   "id": "d26cf320-3a6f-4f44-ae8d-78c55bd42faf",
   "metadata": {},
   "source": [
    "<a name=\"ch5_ex_fat\"></a>\n",
    "\n",
    "### Example : fat content"
   ]
  },
  {
   "cell_type": "code",
   "execution_count": null,
   "id": "0930600b-8a35-4640-a7e2-7a06f30d45a0",
   "metadata": {},
   "outputs": [],
   "source": [
    "A = np.array( [25.2, 21.3, 22.8, 17.0, 29.8, 21.0, 25.5, 16.0, 20.9, 19.5] )\n",
    "\n",
    "### By default, numpy calculates population SD (so, set df for sample SD)\n",
    "print(\"Sample mean   = %.4f\" % A.mean())\n",
    "print(\"Sample sd     = %.4f\" % A.std(ddof=1)) \n",
    "print(\"Population sd = %.4f\" % A.std())\n",
    "print()\n",
    "\n",
    "### Check Q-Q plot (values vs. ideal normal line)\n",
    "fig = plt.figure( figsize = (3,2) )\n",
    "stats.probplot(A, dist = 'norm', plot = plt)\n",
    "plt.show()"
   ]
  },
  {
   "cell_type": "code",
   "execution_count": null,
   "id": "78c5a477-e671-409d-9620-ab287eb669e8",
   "metadata": {},
   "outputs": [],
   "source": [
    "### By default, panda calculates sample SD\n",
    "\n",
    "import pandas as pd\n",
    "pd.DataFrame(A).describe().transpose()"
   ]
  },
  {
   "cell_type": "code",
   "execution_count": null,
   "id": "61f50706-f1d4-4d2d-a355-130bacf25d3e",
   "metadata": {},
   "outputs": [],
   "source": [
    "alpha = 0.025\n",
    "q = 1 - alpha\n",
    "\n",
    "tvalue = t.ppf(q, 9)\n",
    "print(\"t value = %.3f\" % tvalue)"
   ]
  },
  {
   "cell_type": "code",
   "execution_count": null,
   "id": "fdca1f78-2916-4350-b5c8-2d683c77fde8",
   "metadata": {},
   "outputs": [],
   "source": [
    "loc = 21.9\n",
    "scale = 4.134 / float(sqrt(10))\n",
    "\n",
    "### Interval function only supports 2-sided interval\n",
    "interval = t.interval(0.95, 9, loc, scale)\n",
    "print(\"Interval    =\", np.round(interval, 2) )\n",
    "print(\"Lower bound = %.2f\" % interval[0])\n",
    "print(\"Upper bound = %.2f\" % interval[1])"
   ]
  },
  {
   "cell_type": "code",
   "execution_count": null,
   "id": "8549787d-3600-4b7a-a5ad-fd01a4f08edd",
   "metadata": {},
   "outputs": [],
   "source": [
    "### If using default loc = 0, scale = 1\n",
    "interval = t.interval(0.95, 9)\n",
    "print(\"Interval    =\", np.round(interval, 2) )\n",
    "print(\"Lower bound = %.2f\" % interval[0])\n",
    "print(\"Upper bound = %.2f\" % interval[1])"
   ]
  },
  {
   "cell_type": "markdown",
   "id": "075b6412-268c-48b7-b260-a16c0aebbbd1",
   "metadata": {},
   "source": [
    "<a name=\"ch5_chi\"></a>\n",
    "\n",
    "## Chi-Square Distribution\n",
    "- **[Manual: scipy.stats.chi2](https://docs.scipy.org/doc/scipy/reference/generated/scipy.stats.chi2.html)**\n",
    "    > - For $\\chi$<sup>2</sup><sub>(df)</sub>\n",
    "    > - Default loc = 0\n",
    "    > - Default scale = 1"
   ]
  },
  {
   "cell_type": "markdown",
   "id": "04159c32-8627-40b6-9356-0b51f5a40e96",
   "metadata": {},
   "source": [
    "<a name=\"ch5_ex_breakdown\"></a>\n",
    "\n",
    "### Example : breakdown voltage"
   ]
  },
  {
   "cell_type": "code",
   "execution_count": null,
   "id": "4c2e7afb-d069-4964-b2ee-ffaae40e8524",
   "metadata": {},
   "outputs": [],
   "source": [
    "B = np.array( [1470, 1510, 1690, 1740, 1900, 2000, 2030, 2100, 2190, \n",
    "               2200, 2290, 2380, 2390, 2480, 2500, 2580, 2700] )\n",
    "\n",
    "print(\"Sample size     = %d\" % B.size)\n",
    "print(\"Sample mean     = {:,.1f}\".format(B.mean()) )\n",
    "print(\"Sample sd       = {:,.1f}\".format(B.std(ddof=1)) )\n",
    "print(\"Sample variance = {:,.1f}\".format(B.var(ddof=1)) )\n",
    "print()\n",
    "\n",
    "### Check Q-Q plot (values vs. ideal normal line)\n",
    "fig = plt.figure( figsize = (3,2) )\n",
    "stats.probplot(B, dist = 'norm', plot = plt)\n",
    "plt.show()"
   ]
  },
  {
   "cell_type": "markdown",
   "id": "7763d436-e7af-4883-8844-b3a6f3e0e9b7",
   "metadata": {},
   "source": [
    "#### Note that the alpha subscript of chi-square in slide means RHS area\n",
    ">- $\\chi$<sup>2</sup><sub>0.025</sub> means RHS area = 0.025 --> q = 1-0.025 = 0.975\n",
    ">- $\\chi$<sup>2</sup><sub>0.975</sub> means RHS area = 0.975 --> q = 1-0.975 = 0.025"
   ]
  },
  {
   "cell_type": "code",
   "execution_count": null,
   "id": "5d8add0e-760f-421d-b982-c088f12be218",
   "metadata": {},
   "outputs": [],
   "source": [
    "q_lower = 1-0.025\n",
    "q_upper = 1-0.975\n",
    "\n",
    "chi2_lower = chi2.ppf(q_lower, 16)\n",
    "chi2_upper = chi2.ppf(q_upper, 16)\n",
    "print(\"chi2 lower = %.3f\" % chi2_lower)\n",
    "print(\"chi2 upper = %.3f\" % chi2_upper)"
   ]
  },
  {
   "cell_type": "code",
   "execution_count": null,
   "id": "9c0828ac-b1f4-4cd9-9156-69eaa38d0f23",
   "metadata": {},
   "outputs": [],
   "source": []
  }
 ],
 "metadata": {
  "kernelspec": {
   "display_name": "anaconda-panel-2023.05-py310",
   "language": "python",
   "name": "conda-env-anaconda-panel-2023.05-py310-py"
  },
  "language_info": {
   "codemirror_mode": {
    "name": "ipython",
    "version": 3
   },
   "file_extension": ".py",
   "mimetype": "text/x-python",
   "name": "python",
   "nbconvert_exporter": "python",
   "pygments_lexer": "ipython3",
   "version": "3.11.5"
  }
 },
 "nbformat": 4,
 "nbformat_minor": 5
}
