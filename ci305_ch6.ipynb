{
 "cells": [
  {
   "cell_type": "markdown",
   "id": "d2845d01-38dc-4325-92a8-17b79b97ec17",
   "metadata": {},
   "source": [
    "# EGCI 305: Chapter 6 (Hypothesis on 1 Sample)\n",
    "\n",
    "Outline\n",
    "> 1. [Packages](#ch6_packages)\n",
    "\n",
    "> 2. [Example: glecerol concentration (manual calculation)](#ch6_ex_glycerol_manual)\n",
    "\n",
    "> 3. [RHS probability](#ch6_rhs)\n",
    ">    - [Example (1): T distribution](#ch6_ex_rhs1)\n",
    ">    - [Example (2): Z distribution](#ch6_ex_rhs2)\n",
    "\n",
    "> 4. [Z-test function (statmodels)](#ch6_ztest_func)\n",
    ">    - [Example: dynamic cone penetrometer](#ch6_ex_dynamic)\n",
    "\n",
    "> 5. [T-test function (scipy)](#ch6_ttest_func)\n",
    ">    - [Example: glycerol concentration](#ch6_ex_glycerol)"
   ]
  },
  {
   "cell_type": "markdown",
   "id": "a564613e-f234-437f-acd0-381e074f9d4d",
   "metadata": {},
   "source": [
    "<a name=\"ch6_packages\"></a>\n",
    "\n",
    "## Packages\n",
    "> - **numpy** -- to work with array manipulation\n",
    "> - **matplotlib** -- to work with visualization (backend)\n",
    "> - **seaborn** -- to work with high-level visualization\n",
    "> - **math** -- to work with calculation such as sqrt (if not using sympy)\n",
    "> - **scipy.stats** -- to work with stat\n",
    "> - **statsmodels.stats.weightstats** -- to work with hypothesis testing"
   ]
  },
  {
   "cell_type": "code",
   "execution_count": null,
   "id": "84400489-2276-49b0-a621-e5244e731154",
   "metadata": {},
   "outputs": [],
   "source": [
    "import numpy as np\n",
    "import matplotlib.pyplot as plt\n",
    "import seaborn as sns\n",
    "\n",
    "print(\"Numpy version =\", np.version.version)\n",
    "print(\"Seaborn version =\", sns.__version__)\n",
    "\n",
    "import math\n",
    "import scipy\n",
    "print(\"Scipy version =\", scipy.__version__)\n",
    "\n",
    "from scipy import stats\n",
    "from scipy.stats import norm            # Normal distribution\n",
    "from scipy.stats import t               # T distribution\n",
    "from scipy.stats import chi2            # Chi-squared distribution\n",
    "\n",
    "from statsmodels.stats.weightstats import ztest           # Z-test\n",
    "from scipy.stats import ttest_1samp                       # T-test"
   ]
  },
  {
   "cell_type": "markdown",
   "id": "4ada2039-b3af-49a8-a363-a376589d570f",
   "metadata": {},
   "source": [
    "<a name=\"ch6_ex_glycerol_manual\"></a>\n",
    "\n",
    "### Example : glycerol concentration (manual calculation)"
   ]
  },
  {
   "cell_type": "code",
   "execution_count": null,
   "id": "1748e4ae-e576-4bad-9991-9b64c419ef3a",
   "metadata": {},
   "outputs": [],
   "source": [
    "A = np.array( [2.67, 4.62, 4.14, 3.81, 3.83] )\n",
    "\n",
    "n  = A.size\n",
    "mu = A.mean()\n",
    "s  = A.std(ddof=1)\n",
    "print(\"Sample size = %d, mean = %.3f, sd = %.3f \\n\" % (n, mu, s))\n",
    "\n",
    "### Check Q-Q plot (values vs. ideal normal line)\n",
    "fig = plt.figure( figsize = (3,2) )\n",
    "stats.probplot(A, dist = 'norm', plot = plt)\n",
    "plt.show()\n",
    "\n",
    "loc   = mu\n",
    "scale = s / float(math.sqrt(n))"
   ]
  },
  {
   "cell_type": "markdown",
   "id": "73d4877d-75a8-4b41-b752-d74af2f955cb",
   "metadata": {},
   "source": [
    "<a name=\"ch6_rhs\"></a>\n",
    "## RHS Probability, i.e. P(X > x)\n",
    ">- Use cumulative prob. function --> **1 - cdf**\n",
    ">- Use survival function --> **sf**\n",
    "\n",
    "<a name=\"ch6_ex_rhs1\"></a>\n",
    "### Example (1) : T distribution\n",
    ">- t = 1.6, df = 8\n",
    ">- P(T > t) = ?"
   ]
  },
  {
   "cell_type": "code",
   "execution_count": null,
   "id": "9c0828ac-b1f4-4cd9-9156-69eaa38d0f23",
   "metadata": {},
   "outputs": [],
   "source": [
    "by_cdf = 1 - t.cdf(1.6, 8)\n",
    "by_sf  = t.sf(1.6, 8)\n",
    "neg_t  = t.cdf(-1.6, 8)\n",
    "\n",
    "print(\"Prob by cdf        = %.3f\" % by_cdf)\n",
    "print(\"Prob by sf         = %.3f\" % by_sf)\n",
    "print(\"Prob of negative t = %.3f\" % neg_t)"
   ]
  },
  {
   "cell_type": "markdown",
   "id": "14284a24-d078-4ec3-8852-b44d656c502d",
   "metadata": {},
   "source": [
    "<a name=\"ch6_ex_rhs2\"></a>\n",
    "### Example (2) : Z distribution\n",
    ">- z = 2.16\n",
    ">- P(Z > 2.16) = ?"
   ]
  },
  {
   "cell_type": "code",
   "execution_count": null,
   "id": "bbc9e5be-78c9-45dd-b7ce-f10d1d920fb5",
   "metadata": {},
   "outputs": [],
   "source": [
    "by_cdf = 1 - norm.cdf(2.16)\n",
    "by_sf  = norm.sf(2.16)\n",
    "neg_z  = norm.cdf(-2.16)\n",
    "\n",
    "print(\"Prob by cdf        = %.3f\" % by_cdf)\n",
    "print(\"Prob by sf         = %.3f\" % by_sf)\n",
    "print(\"Prob of negative z = %.3f\" % neg_z)"
   ]
  },
  {
   "cell_type": "markdown",
   "id": "be333fba-2fe9-45e9-94cf-a0aea9ec3b03",
   "metadata": {},
   "source": [
    "<a name=\"ch6_ztest_func\"></a>\n",
    "\n",
    "## Z-test Function (statsmodels)\n",
    "- **[Manual: statmodels.stats.weightstats.ztest](https://www.statsmodels.org/dev/generated/statsmodels.stats.weightstats.ztest.html)**\n",
    "- Can use this function to do the whole testing procedure **if raw data are available**"
   ]
  },
  {
   "cell_type": "markdown",
   "id": "0f729239-cd4c-4e80-96cd-cee09b34172c",
   "metadata": {},
   "source": [
    "<a name=\"ch6_ex_dynamic\"></a>\n",
    "\n",
    "### Example : dynamic cone penetrometer\n",
    "- Hypothesis\n",
    "    >- H<sub>0</sub> : $\\mu$ = 30\n",
    "    >- H<sub>1</sub> : $\\mu$ < 30"
   ]
  },
  {
   "cell_type": "code",
   "execution_count": null,
   "id": "b4d00a88-55f0-4fe5-9c65-ace44c8d11c4",
   "metadata": {},
   "outputs": [],
   "source": [
    "A = np.array( [14.1, 14.5, 15.5, 16.0, 16.0, 16.7, 16.9, 17.1, 17.5, 17.8,\n",
    "               17.8, 18.1, 18.2, 18.3, 18.3, 19.0, 19.2, 19.4, 20.0, 20.0,\n",
    "               20.8, 20.8, 21.0, 21.5, 23.5, 27.5, 27.5, 28.0, 28.3, 30.0,\n",
    "               30.0, 31.6, 31.7, 31.7, 32.5, 33.5, 33.9, 35.0, 35.0, 35.0,\n",
    "               36.7, 40.0, 40.0, 41.3, 41.7, 47.5, 50.0, 51.0, 51.8, 54.4,\n",
    "               55.0, 57.0] )\n",
    "\n",
    "n  = A.size\n",
    "mu = A.mean()\n",
    "s  = A.std(ddof=1)\n",
    "print(\"Sample size = %d, mean = %.2f, sd = %.4f \\n\" % (n, mu, s))"
   ]
  },
  {
   "cell_type": "code",
   "execution_count": null,
   "id": "b1a3b8b4-571d-4900-8ed4-4881ce321dea",
   "metadata": {},
   "outputs": [],
   "source": [
    "### Result is returned as a tuple -- use [] to access each value\n",
    "\n",
    "result = ztest(A, value = 30, alternative = 'smaller')\n",
    "print(\"Calculated Z = %.2f\" % result[0])\n",
    "print(\"P-value      = %.4f\" % result[1])"
   ]
  },
  {
   "cell_type": "code",
   "execution_count": null,
   "id": "37db1861-b9de-456e-b642-a0eaf6cc1b90",
   "metadata": {},
   "outputs": [],
   "source": [
    "### What if we run t-test instead of z-test\n",
    "\n",
    "### Result is returned as an object -- use .member to access each value\n",
    "\n",
    "result = ttest_1samp(A, 30, alternative = 'less')\n",
    "print(\"Calculated T = %.2f\" % result.statistic)\n",
    "print(\"df           = %d\"   % result.df)\n",
    "print(\"P-value      = %.4f\" % result.pvalue)"
   ]
  },
  {
   "cell_type": "markdown",
   "id": "3d4d13f7-4c34-48c2-a8b6-4d120d487449",
   "metadata": {},
   "source": [
    "<a name=\"ch6_ttest_func\"></a>\n",
    "\n",
    "## T-test Function (scipy)\n",
    "- **[Manual: scipy.stats.ttest_1samp](https://docs.scipy.org/doc/scipy/reference/generated/scipy.stats.ttest_1samp.html)**\n",
    "- Can use this function to do the whole testing procedure **if raw data are available**"
   ]
  },
  {
   "cell_type": "markdown",
   "id": "47a158cd-40a0-4b12-9209-92376cfb4fdf",
   "metadata": {},
   "source": [
    "<a name=\"ch6_ex_glycerol\"></a>\n",
    "\n",
    "### Example : glycerol concentration\n",
    "- Hypothesis\n",
    "    >- H<sub>0</sub> : $\\mu$ = 4\n",
    "    >- H<sub>1</sub> : $\\mu$ $\\ne$ 4"
   ]
  },
  {
   "cell_type": "code",
   "execution_count": null,
   "id": "e07b1f2f-58f1-4798-8b7e-168d7a03e4b8",
   "metadata": {},
   "outputs": [],
   "source": [
    "A = np.array( [2.67, 4.62, 4.14, 3.81, 3.83] )\n",
    "\n",
    "n  = A.size\n",
    "mu = A.mean()\n",
    "s  = A.std(ddof=1)\n",
    "#print(\"Sample size = %d, mean = %.3f, sd = %.3f \\n\" % (n, mu, s))\n",
    "\n",
    "### Result is returned as an object -- use .member to access each value\n",
    "\n",
    "result = ttest_1samp(A, 4, alternative = 'two-sided')\n",
    "print(\"Calculated T = %.2f\" % result.statistic)\n",
    "print(\"df           = %d\"   % result.df)\n",
    "print(\"P-value      = %.3f\" % result.pvalue)"
   ]
  },
  {
   "cell_type": "code",
   "execution_count": null,
   "id": "d6360da1-4bb8-44a9-a6c0-8fda6ca6c754",
   "metadata": {},
   "outputs": [],
   "source": []
  }
 ],
 "metadata": {
  "kernelspec": {
   "display_name": "anaconda-panel-2023.05-py310",
   "language": "python",
   "name": "conda-env-anaconda-panel-2023.05-py310-py"
  },
  "language_info": {
   "codemirror_mode": {
    "name": "ipython",
    "version": 3
   },
   "file_extension": ".py",
   "mimetype": "text/x-python",
   "name": "python",
   "nbconvert_exporter": "python",
   "pygments_lexer": "ipython3",
   "version": "3.11.5"
  }
 },
 "nbformat": 4,
 "nbformat_minor": 5
}
